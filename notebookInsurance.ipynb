{
  "cells": [
    {
      "cell_type": "markdown",
      "metadata": {
        "id": "nBbmcyZ8TuJ7"
      },
      "source": [
        "# **Project \"*Medical Insurance Cost Prediction*\"**"
      ]
    },
    {
      "cell_type": "code",
      "execution_count": null,
      "metadata": {},
      "outputs": [],
      "source": [
        "Image('/Users/alexangelbracho/Desktop/projectAWS/images/imageInsurance.jpeg') "
      ]
    },
    {
      "cell_type": "markdown",
      "metadata": {
        "id": "-5REnCLWTuKG"
      },
      "source": [
        "# **1. Overview**\n"
      ]
    },
    {
      "cell_type": "markdown",
      "metadata": {
        "id": "zQEVr5UaTuKH"
      },
      "source": [
        "\n",
        "\n",
        "\n",
        "\n",
        "### The medical insurance is one of the most important issues of any society. Therefore, the costs associated with this is very critical in any familiar budget. In this project, we´ll be dealing with two main questions:\n",
        "\n",
        "### **--->** What are the primary factors influencing medical insurance expenses?\n",
        "\n",
        "### **--->** How accurate is the Linear Regression machine learning technique in predicting medical expenses?"
      ]
    },
    {
      "cell_type": "markdown",
      "metadata": {
        "id": "lez4BkL4TuKI"
      },
      "source": [
        "## *Core Question*\n",
        "\n",
        "### **What is the estimated cost of a Medical Insurance?**\n"
      ]
    },
    {
      "cell_type": "markdown",
      "metadata": {
        "id": "n3lC3j9CTuKJ"
      },
      "source": [
        "# **2. Preprocessing**"
      ]
    },
    {
      "cell_type": "code",
      "execution_count": 3,
      "metadata": {
        "id": "DWnCs2P6TuKK"
      },
      "outputs": [],
      "source": [
        "# data and array managament\n",
        "import pandas as pd\n",
        "import numpy as np\n",
        "\n",
        "# visualization libraries\n",
        "import matplotlib.pyplot as plt\n",
        "import seaborn as sb\n",
        "from IPython.display import Image\n",
        "%matplotlib inline\n",
        "\n",
        "# sckikit-learn libraries\n",
        "import sklearn\n",
        "from sklearn import preprocessing\n",
        "from sklearn import linear_model\n",
        "from sklearn.model_selection import train_test_split\n",
        "from sklearn.preprocessing import StandardScaler\n",
        "from sklearn.metrics import r2_score\n",
        "import pickle\n",
        "\n",
        "# spark libraries\n",
        "from pyspark.sql import SparkSession\n",
        "from pyspark.sql import functions as F\n",
        "from pyspark.sql import SQLContext\n",
        "from boto3.session import Session"
      ]
    },
    {
      "cell_type": "markdown",
      "metadata": {},
      "source": [
        "# **2.1 Data Cleaning**\n",
        "\n",
        "### We´ll use Spark to make this section.\n"
      ]
    },
    {
      "cell_type": "code",
      "execution_count": 4,
      "metadata": {},
      "outputs": [
        {
          "name": "stderr",
          "output_type": "stream",
          "text": [
            "24/04/15 20:19:19 WARN Utils: Your hostname, Alexangels-MacBook-Pro.local resolves to a loopback address: 127.0.0.1; using 192.168.1.12 instead (on interface en0)\n",
            "24/04/15 20:19:19 WARN Utils: Set SPARK_LOCAL_IP if you need to bind to another address\n",
            "Setting default log level to \"WARN\".\n",
            "To adjust logging level use sc.setLogLevel(newLevel). For SparkR, use setLogLevel(newLevel).\n",
            "24/04/15 20:19:20 WARN NativeCodeLoader: Unable to load native-hadoop library for your platform... using builtin-java classes where applicable\n"
          ]
        },
        {
          "data": {
            "text/html": [
              "\n",
              "            <div>\n",
              "                <p><b>SparkSession - in-memory</b></p>\n",
              "                \n",
              "        <div>\n",
              "            <p><b>SparkContext</b></p>\n",
              "\n",
              "            <p><a href=\"http://192.168.1.12:4040\">Spark UI</a></p>\n",
              "\n",
              "            <dl>\n",
              "              <dt>Version</dt>\n",
              "                <dd><code>v3.5.1</code></dd>\n",
              "              <dt>Master</dt>\n",
              "                <dd><code>local[*]</code></dd>\n",
              "              <dt>AppName</dt>\n",
              "                <dd><code>sparkInsurance</code></dd>\n",
              "            </dl>\n",
              "        </div>\n",
              "        \n",
              "            </div>\n",
              "        "
            ],
            "text/plain": [
              "<pyspark.sql.session.SparkSession at 0x14a437020>"
            ]
          },
          "execution_count": 4,
          "metadata": {},
          "output_type": "execute_result"
        }
      ],
      "source": [
        "# Create the Spark Session\n",
        "\n",
        "spark = SparkSession.builder.appName('sparkInsurance').getOrCreate()\n",
        "\n",
        "spark"
      ]
    },
    {
      "cell_type": "code",
      "execution_count": 97,
      "metadata": {},
      "outputs": [
        {
          "name": "stdout",
          "output_type": "stream",
          "text": [
            "+---+------+------+--------+------+---------+-----------+\n",
            "|age|   sex|   bmi|children|smoker|   region|    charges|\n",
            "+---+------+------+--------+------+---------+-----------+\n",
            "| 19|female|  27.9|       0|   yes|southwest|  16884.924|\n",
            "| 18|  male| 33.77|       1|    no|southeast|  1725.5523|\n",
            "| 28|  male|    33|       3|    no|southeast|   4449.462|\n",
            "| 33|  male|22.705|       0|    no|northwest|21984.47061|\n",
            "| 32|  male| 28.88|       0|    no|northwest|  3866.8552|\n",
            "+---+------+------+--------+------+---------+-----------+\n",
            "only showing top 5 rows\n",
            "\n",
            "2772\n"
          ]
        }
      ],
      "source": [
        "# Create the table \n",
        "\n",
        "insurance_df = spark.read.csv('./file_csv/medical_insurance.csv', sep=',', header=True)\n",
        "\n",
        "insurance_df.show(5)\n",
        "\n",
        "\n",
        "print(insurance_df.count())"
      ]
    },
    {
      "cell_type": "code",
      "execution_count": 98,
      "metadata": {},
      "outputs": [
        {
          "data": {
            "text/plain": [
              "2772"
            ]
          },
          "execution_count": 98,
          "metadata": {},
          "output_type": "execute_result"
        }
      ],
      "source": [
        "insurance_df.count()"
      ]
    },
    {
      "cell_type": "code",
      "execution_count": 99,
      "metadata": {},
      "outputs": [],
      "source": [
        "## Drop Duplicates\n",
        "\n",
        "insurance_df = insurance_df.dropDuplicates()"
      ]
    },
    {
      "cell_type": "code",
      "execution_count": 101,
      "metadata": {},
      "outputs": [
        {
          "data": {
            "text/plain": [
              "1338"
            ]
          },
          "execution_count": 101,
          "metadata": {},
          "output_type": "execute_result"
        }
      ],
      "source": [
        "insurance_df.count()"
      ]
    },
    {
      "cell_type": "code",
      "execution_count": 102,
      "metadata": {},
      "outputs": [],
      "source": [
        "## Drop Null values\n",
        "\n",
        "insurance_df = insurance_df.na.drop(how='any')"
      ]
    },
    {
      "cell_type": "code",
      "execution_count": 103,
      "metadata": {},
      "outputs": [
        {
          "data": {
            "text/plain": [
              "1338"
            ]
          },
          "execution_count": 103,
          "metadata": {},
          "output_type": "execute_result"
        }
      ],
      "source": [
        "insurance_df.count()"
      ]
    },
    {
      "cell_type": "markdown",
      "metadata": {},
      "source": [
        "### There were no null values in the dataset."
      ]
    },
    {
      "cell_type": "code",
      "execution_count": 104,
      "metadata": {},
      "outputs": [],
      "source": [
        "# rename the column 'bmi' by 'body_mass_index'\n",
        "\n",
        "insurance_df = insurance_df.withColumnsRenamed({'bmi':'body_mass_index'})"
      ]
    },
    {
      "cell_type": "code",
      "execution_count": 105,
      "metadata": {},
      "outputs": [
        {
          "name": "stdout",
          "output_type": "stream",
          "text": [
            "+---+------+---------------+--------+------+---------+----------+\n",
            "|age|   sex|body_mass_index|children|smoker|   region|   charges|\n",
            "+---+------+---------------+--------+------+---------+----------+\n",
            "| 43|  male|          27.36|       3|    no|northeast| 8606.2174|\n",
            "| 48|  male|          24.42|       0|   yes|southeast|21223.6758|\n",
            "| 20|female|          26.84|       1|   yes|southeast|17085.2676|\n",
            "+---+------+---------------+--------+------+---------+----------+\n",
            "only showing top 3 rows\n",
            "\n"
          ]
        }
      ],
      "source": [
        "insurance_df.show(3)"
      ]
    },
    {
      "cell_type": "code",
      "execution_count": 106,
      "metadata": {},
      "outputs": [
        {
          "name": "stdout",
          "output_type": "stream",
          "text": [
            "+-----------+\n",
            "|    charges|\n",
            "+-----------+\n",
            "|  10043.249|\n",
            "|  10065.413|\n",
            "|10072.05505|\n",
            "|  10085.846|\n",
            "|   10096.97|\n",
            "|10106.13425|\n",
            "| 10107.2206|\n",
            "|10115.00885|\n",
            "|  10118.424|\n",
            "| 10141.1362|\n",
            "| 10156.7832|\n",
            "| 10197.7722|\n",
            "|  10214.636|\n",
            "| 10226.2842|\n",
            "| 10231.4999|\n",
            "| 10264.4421|\n",
            "|   10269.46|\n",
            "|  10325.206|\n",
            "| 10338.9316|\n",
            "|  10355.641|\n",
            "+-----------+\n",
            "only showing top 20 rows\n",
            "\n"
          ]
        }
      ],
      "source": [
        "# here, we have the charges in ascending order \n",
        "insurance_df.sort('charges')[['charges']].show()"
      ]
    },
    {
      "cell_type": "code",
      "execution_count": 107,
      "metadata": {},
      "outputs": [
        {
          "name": "stdout",
          "output_type": "stream",
          "text": [
            "+---+------+---------------+--------+------+---------+-----------+\n",
            "|age|   sex|body_mass_index|children|smoker|   region|    charges|\n",
            "+---+------+---------------+--------+------+---------+-----------+\n",
            "| 64|  male|          33.88|       0|   yes|southeast| 46889.2612|\n",
            "| 48|  male|         40.565|       2|   yes|northwest|45702.02235|\n",
            "| 51|female|          34.96|       2|   yes|northeast| 44641.1974|\n",
            "| 31|  male|          34.39|       3|   yes|northwest| 38746.3551|\n",
            "| 57|female|          31.16|       0|   yes|northwest| 43578.9394|\n",
            "| 23|female|          42.75|       1|   yes|northeast| 40904.1995|\n",
            "| 37|  male|           34.2|       1|   yes|northeast|  39047.285|\n",
            "| 25|  male|          33.33|       2|   yes|southeast| 36124.5737|\n",
            "| 51|female|          38.06|       0|   yes|southeast| 44400.4064|\n",
            "| 38|  male|          38.39|       3|   yes|southeast| 41949.2441|\n",
            "| 53|  male|         34.105|       0|   yes|northeast|43254.41795|\n",
            "| 30|  male|           37.8|       2|   yes|southwest|  39241.442|\n",
            "| 28|  male|           36.4|       1|   yes|southwest|51194.55914|\n",
            "| 63|female|           32.2|       2|   yes|southwest|  47305.305|\n",
            "| 55|  male|         30.685|       0|   yes|northeast|42303.69215|\n",
            "| 22|female|          31.02|       3|   yes|southeast| 35595.5898|\n",
            "| 42|  male|          26.07|       1|   yes|southeast|38245.59327|\n",
            "| 61|  male|           36.3|       1|   yes|southwest|   47403.88|\n",
            "| 59|  male|          41.14|       1|   yes|southeast| 48970.2476|\n",
            "| 44|  male|           30.2|       2|   yes|southwest|  38998.546|\n",
            "+---+------+---------------+--------+------+---------+-----------+\n",
            "only showing top 20 rows\n",
            "\n",
            "The number of people who smoke and spend more than $35.000: 130\n"
          ]
        }
      ],
      "source": [
        "## 5. Apply filters :\n",
        "## charges & smoker\n",
        "\n",
        "insurance_df_filter = insurance_df.filter((insurance_df.charges > 35000) & (insurance_df.smoker == 'yes' ) )\n",
        "insurance_df_filter.show()\n",
        "print(f'The number of people who smoke and spend more than $35.000:',insurance_df_filter.count())"
      ]
    },
    {
      "cell_type": "code",
      "execution_count": 108,
      "metadata": {},
      "outputs": [
        {
          "name": "stdout",
          "output_type": "stream",
          "text": [
            "+---+------+---------------+--------+------+---------+-----------+\n",
            "|age|   sex|body_mass_index|children|smoker|   region|    charges|\n",
            "+---+------+---------------+--------+------+---------+-----------+\n",
            "| 61|female|          33.33|       4|    no|southeast|36580.28216|\n",
            "| 55|female|           26.8|       1|    no|southwest|35160.13457|\n",
            "| 59|female|           34.8|       2|    no|southwest|36910.60803|\n",
            "+---+------+---------------+--------+------+---------+-----------+\n",
            "\n",
            "The number of people who don´t smoke and spend more than $35.000: 3\n"
          ]
        }
      ],
      "source": [
        "insurance_df_filter = insurance_df.filter((insurance_df.charges > 35000) & (insurance_df.smoker == 'no' ) )\n",
        "insurance_df_filter.show()\n",
        "print(f'The number of people who don´t smoke and spend more than $35.000:',insurance_df_filter.count())"
      ]
    },
    {
      "cell_type": "markdown",
      "metadata": {},
      "source": [
        "### From the previous data, we can see that there are 274 people who are smokers paying more than $35.000 in insurance versus 6 not being."
      ]
    },
    {
      "cell_type": "code",
      "execution_count": 109,
      "metadata": {},
      "outputs": [
        {
          "name": "stdout",
          "output_type": "stream",
          "text": [
            "+------+\n",
            "|smoker|\n",
            "+------+\n",
            "|    no|\n",
            "|   yes|\n",
            "+------+\n",
            "\n",
            "The number of classes here is: 2\n"
          ]
        }
      ],
      "source": [
        "## 6. Number of classes per feature\n",
        "## smoker\n",
        "\n",
        "insurance_df[['smoker']].distinct().show()\n",
        "print('The number of classes here is:',insurance_df[['smoker']].distinct().count())"
      ]
    },
    {
      "cell_type": "code",
      "execution_count": 110,
      "metadata": {},
      "outputs": [
        {
          "name": "stdout",
          "output_type": "stream",
          "text": [
            "+---------+\n",
            "|   region|\n",
            "+---------+\n",
            "|northwest|\n",
            "|southeast|\n",
            "|northeast|\n",
            "|southwest|\n",
            "+---------+\n",
            "\n",
            "The number of classes here is: 4\n"
          ]
        }
      ],
      "source": [
        "## region\n",
        "\n",
        "insurance_df[['region']].distinct().show()\n",
        "print('The number of classes here is:',insurance_df[['region']].distinct().count())"
      ]
    },
    {
      "cell_type": "code",
      "execution_count": 111,
      "metadata": {},
      "outputs": [
        {
          "name": "stdout",
          "output_type": "stream",
          "text": [
            "+---+\n",
            "|age|\n",
            "+---+\n",
            "| 51|\n",
            "| 54|\n",
            "| 29|\n",
            "| 42|\n",
            "| 64|\n",
            "| 30|\n",
            "| 34|\n",
            "| 59|\n",
            "| 28|\n",
            "| 22|\n",
            "| 52|\n",
            "| 35|\n",
            "| 47|\n",
            "| 43|\n",
            "| 31|\n",
            "| 18|\n",
            "| 27|\n",
            "| 61|\n",
            "| 26|\n",
            "| 46|\n",
            "+---+\n",
            "only showing top 20 rows\n",
            "\n",
            "The number of classes here is: 47\n"
          ]
        }
      ],
      "source": [
        "## age\n",
        "\n",
        "insurance_df[['age']].distinct().show()\n",
        "print('The number of classes here is:',insurance_df[['age']].distinct().count())"
      ]
    },
    {
      "cell_type": "code",
      "execution_count": 112,
      "metadata": {},
      "outputs": [
        {
          "name": "stdout",
          "output_type": "stream",
          "text": [
            "+--------+\n",
            "|children|\n",
            "+--------+\n",
            "|       3|\n",
            "|       0|\n",
            "|       5|\n",
            "|       1|\n",
            "|       4|\n",
            "|       2|\n",
            "+--------+\n",
            "\n",
            "The number of classes here is: 6\n"
          ]
        }
      ],
      "source": [
        "## children\n",
        "\n",
        "insurance_df[['children']].distinct().show()\n",
        "print('The number of classes here is:',insurance_df[['children']].distinct().count())"
      ]
    },
    {
      "cell_type": "code",
      "execution_count": 113,
      "metadata": {},
      "outputs": [
        {
          "name": "stdout",
          "output_type": "stream",
          "text": [
            "+------+\n",
            "|   sex|\n",
            "+------+\n",
            "|female|\n",
            "|  male|\n",
            "+------+\n",
            "\n",
            "The number of classes here is: 2\n"
          ]
        }
      ],
      "source": [
        "## sex\n",
        "\n",
        "insurance_df[['sex']].distinct().show()\n",
        "print('The number of classes here is:',insurance_df[['sex']].distinct().count())"
      ]
    },
    {
      "cell_type": "code",
      "execution_count": 114,
      "metadata": {},
      "outputs": [
        {
          "name": "stdout",
          "output_type": "stream",
          "text": [
            "+------+\n",
            "|smoker|\n",
            "+------+\n",
            "|    no|\n",
            "|   yes|\n",
            "+------+\n",
            "\n",
            "The number of classes here is: 2\n"
          ]
        }
      ],
      "source": [
        "## smoker\n",
        "\n",
        "insurance_df[['smoker']].distinct().show()\n",
        "print('The number of classes here is:',insurance_df[['smoker']].distinct().count())"
      ]
    },
    {
      "cell_type": "code",
      "execution_count": 115,
      "metadata": {},
      "outputs": [
        {
          "name": "stdout",
          "output_type": "stream",
          "text": [
            "+-----------+\n",
            "|    charges|\n",
            "+-----------+\n",
            "| 2198.18985|\n",
            "|  2134.9015|\n",
            "| 15359.1045|\n",
            "|  5594.8455|\n",
            "| 9095.06825|\n",
            "| 2709.24395|\n",
            "| 10594.2257|\n",
            "| 17663.1442|\n",
            "|  7731.4271|\n",
            "|7323.734819|\n",
            "| 15817.9857|\n",
            "| 29523.1656|\n",
            "|  8428.0693|\n",
            "| 36307.7983|\n",
            "|  6289.7549|\n",
            "|19673.33573|\n",
            "| 5373.36425|\n",
            "|  4058.1161|\n",
            "|  1135.9407|\n",
            "|   2597.779|\n",
            "+-----------+\n",
            "only showing top 20 rows\n",
            "\n",
            "The number of classes here is: 1338\n"
          ]
        }
      ],
      "source": [
        "## charges\n",
        "\n",
        "insurance_df[['charges']].distinct().show()\n",
        "print('The number of classes here is:',insurance_df[['charges']].distinct().count())"
      ]
    },
    {
      "cell_type": "code",
      "execution_count": 116,
      "metadata": {},
      "outputs": [
        {
          "name": "stdout",
          "output_type": "stream",
          "text": [
            "+---+------+---------------+--------+------+---------+----------+\n",
            "|age|   sex|body_mass_index|children|smoker|   region|   charges|\n",
            "+---+------+---------------+--------+------+---------+----------+\n",
            "| 43|  male|          27.36|       3|    no|northeast| 8606.2174|\n",
            "| 48|  male|          24.42|       0|   yes|southeast|21223.6758|\n",
            "| 20|female|          26.84|       1|   yes|southeast|17085.2676|\n",
            "| 47|female|         29.545|       1|    no|northwest|8930.93455|\n",
            "| 36|female|          30.02|       0|    no|northwest| 5272.1758|\n",
            "+---+------+---------------+--------+------+---------+----------+\n",
            "only showing top 5 rows\n",
            "\n"
          ]
        }
      ],
      "source": [
        "insurance_df.show(5)"
      ]
    },
    {
      "cell_type": "code",
      "execution_count": 117,
      "metadata": {},
      "outputs": [
        {
          "data": {
            "text/plain": [
              "1338"
            ]
          },
          "execution_count": 117,
          "metadata": {},
          "output_type": "execute_result"
        }
      ],
      "source": [
        "insurance_df.count()"
      ]
    },
    {
      "cell_type": "code",
      "execution_count": 118,
      "metadata": {},
      "outputs": [],
      "source": [
        "#spark.conf.set(\"spark.sql.execution.arrow.enabled\", \"true\")\n",
        "\n",
        "insurance_df_pd = insurance_df.toPandas()"
      ]
    },
    {
      "cell_type": "code",
      "execution_count": 119,
      "metadata": {},
      "outputs": [
        {
          "data": {
            "text/plain": [
              "age                1338\n",
              "sex                1338\n",
              "body_mass_index    1338\n",
              "children           1338\n",
              "smoker             1338\n",
              "region             1338\n",
              "charges            1338\n",
              "dtype: int64"
            ]
          },
          "execution_count": 119,
          "metadata": {},
          "output_type": "execute_result"
        }
      ],
      "source": [
        "insurance_df_pd.count()"
      ]
    },
    {
      "cell_type": "markdown",
      "metadata": {
        "id": "7x1geoE6TuKb"
      },
      "source": [
        "# **2.2 Data Coding**"
      ]
    },
    {
      "cell_type": "markdown",
      "metadata": {
        "id": "5yt3cMZzTuKb"
      },
      "source": [
        "#### In this part, we´ll perform some ***data coding*** from the file preprocessed in the previous step with Spark."
      ]
    },
    {
      "cell_type": "code",
      "execution_count": 120,
      "metadata": {
        "id": "1AwM6iBATuKc",
        "outputId": "ed814efd-3c5e-41e5-d3a1-b19be2734a5c"
      },
      "outputs": [
        {
          "data": {
            "text/html": [
              "<div>\n",
              "<style scoped>\n",
              "    .dataframe tbody tr th:only-of-type {\n",
              "        vertical-align: middle;\n",
              "    }\n",
              "\n",
              "    .dataframe tbody tr th {\n",
              "        vertical-align: top;\n",
              "    }\n",
              "\n",
              "    .dataframe thead th {\n",
              "        text-align: right;\n",
              "    }\n",
              "</style>\n",
              "<table border=\"1\" class=\"dataframe\">\n",
              "  <thead>\n",
              "    <tr style=\"text-align: right;\">\n",
              "      <th></th>\n",
              "      <th>age</th>\n",
              "      <th>sex</th>\n",
              "      <th>body_mass_index</th>\n",
              "      <th>children</th>\n",
              "      <th>smoker</th>\n",
              "      <th>region</th>\n",
              "      <th>charges</th>\n",
              "    </tr>\n",
              "  </thead>\n",
              "  <tbody>\n",
              "    <tr>\n",
              "      <th>0</th>\n",
              "      <td>43</td>\n",
              "      <td>male</td>\n",
              "      <td>27.36</td>\n",
              "      <td>3</td>\n",
              "      <td>no</td>\n",
              "      <td>northeast</td>\n",
              "      <td>8606.2174</td>\n",
              "    </tr>\n",
              "    <tr>\n",
              "      <th>1</th>\n",
              "      <td>48</td>\n",
              "      <td>male</td>\n",
              "      <td>24.42</td>\n",
              "      <td>0</td>\n",
              "      <td>yes</td>\n",
              "      <td>southeast</td>\n",
              "      <td>21223.6758</td>\n",
              "    </tr>\n",
              "    <tr>\n",
              "      <th>2</th>\n",
              "      <td>20</td>\n",
              "      <td>female</td>\n",
              "      <td>26.84</td>\n",
              "      <td>1</td>\n",
              "      <td>yes</td>\n",
              "      <td>southeast</td>\n",
              "      <td>17085.2676</td>\n",
              "    </tr>\n",
              "    <tr>\n",
              "      <th>3</th>\n",
              "      <td>47</td>\n",
              "      <td>female</td>\n",
              "      <td>29.545</td>\n",
              "      <td>1</td>\n",
              "      <td>no</td>\n",
              "      <td>northwest</td>\n",
              "      <td>8930.93455</td>\n",
              "    </tr>\n",
              "    <tr>\n",
              "      <th>4</th>\n",
              "      <td>36</td>\n",
              "      <td>female</td>\n",
              "      <td>30.02</td>\n",
              "      <td>0</td>\n",
              "      <td>no</td>\n",
              "      <td>northwest</td>\n",
              "      <td>5272.1758</td>\n",
              "    </tr>\n",
              "    <tr>\n",
              "      <th>5</th>\n",
              "      <td>19</td>\n",
              "      <td>male</td>\n",
              "      <td>19.8</td>\n",
              "      <td>0</td>\n",
              "      <td>no</td>\n",
              "      <td>southwest</td>\n",
              "      <td>1241.565</td>\n",
              "    </tr>\n",
              "    <tr>\n",
              "      <th>6</th>\n",
              "      <td>29</td>\n",
              "      <td>female</td>\n",
              "      <td>21.85</td>\n",
              "      <td>0</td>\n",
              "      <td>yes</td>\n",
              "      <td>northeast</td>\n",
              "      <td>16115.3045</td>\n",
              "    </tr>\n",
              "    <tr>\n",
              "      <th>7</th>\n",
              "      <td>61</td>\n",
              "      <td>female</td>\n",
              "      <td>39.1</td>\n",
              "      <td>2</td>\n",
              "      <td>no</td>\n",
              "      <td>southwest</td>\n",
              "      <td>14235.072</td>\n",
              "    </tr>\n",
              "    <tr>\n",
              "      <th>8</th>\n",
              "      <td>42</td>\n",
              "      <td>female</td>\n",
              "      <td>26.6</td>\n",
              "      <td>0</td>\n",
              "      <td>yes</td>\n",
              "      <td>northwest</td>\n",
              "      <td>21348.706</td>\n",
              "    </tr>\n",
              "    <tr>\n",
              "      <th>9</th>\n",
              "      <td>18</td>\n",
              "      <td>female</td>\n",
              "      <td>26.73</td>\n",
              "      <td>0</td>\n",
              "      <td>no</td>\n",
              "      <td>southeast</td>\n",
              "      <td>1615.7667</td>\n",
              "    </tr>\n",
              "  </tbody>\n",
              "</table>\n",
              "</div>"
            ],
            "text/plain": [
              "  age     sex body_mass_index children smoker     region     charges\n",
              "0  43    male           27.36        3     no  northeast   8606.2174\n",
              "1  48    male           24.42        0    yes  southeast  21223.6758\n",
              "2  20  female           26.84        1    yes  southeast  17085.2676\n",
              "3  47  female          29.545        1     no  northwest  8930.93455\n",
              "4  36  female           30.02        0     no  northwest   5272.1758\n",
              "5  19    male            19.8        0     no  southwest    1241.565\n",
              "6  29  female           21.85        0    yes  northeast  16115.3045\n",
              "7  61  female            39.1        2     no  southwest   14235.072\n",
              "8  42  female            26.6        0    yes  northwest   21348.706\n",
              "9  18  female           26.73        0     no  southeast   1615.7667"
            ]
          },
          "execution_count": 120,
          "metadata": {},
          "output_type": "execute_result"
        }
      ],
      "source": [
        "insurance_df_pd.head(10)"
      ]
    },
    {
      "cell_type": "markdown",
      "metadata": {},
      "source": [
        "### Now, we´ll use the describe method to check some properties of the dataset."
      ]
    },
    {
      "cell_type": "code",
      "execution_count": 121,
      "metadata": {},
      "outputs": [
        {
          "data": {
            "text/html": [
              "<div>\n",
              "<style scoped>\n",
              "    .dataframe tbody tr th:only-of-type {\n",
              "        vertical-align: middle;\n",
              "    }\n",
              "\n",
              "    .dataframe tbody tr th {\n",
              "        vertical-align: top;\n",
              "    }\n",
              "\n",
              "    .dataframe thead th {\n",
              "        text-align: right;\n",
              "    }\n",
              "</style>\n",
              "<table border=\"1\" class=\"dataframe\">\n",
              "  <thead>\n",
              "    <tr style=\"text-align: right;\">\n",
              "      <th></th>\n",
              "      <th>age</th>\n",
              "      <th>sex</th>\n",
              "      <th>body_mass_index</th>\n",
              "      <th>children</th>\n",
              "      <th>smoker</th>\n",
              "      <th>region</th>\n",
              "      <th>charges</th>\n",
              "    </tr>\n",
              "  </thead>\n",
              "  <tbody>\n",
              "    <tr>\n",
              "      <th>count</th>\n",
              "      <td>1338</td>\n",
              "      <td>1338</td>\n",
              "      <td>1338</td>\n",
              "      <td>1338</td>\n",
              "      <td>1338</td>\n",
              "      <td>1338</td>\n",
              "      <td>1338</td>\n",
              "    </tr>\n",
              "    <tr>\n",
              "      <th>unique</th>\n",
              "      <td>47</td>\n",
              "      <td>2</td>\n",
              "      <td>548</td>\n",
              "      <td>6</td>\n",
              "      <td>2</td>\n",
              "      <td>4</td>\n",
              "      <td>1338</td>\n",
              "    </tr>\n",
              "    <tr>\n",
              "      <th>top</th>\n",
              "      <td>18</td>\n",
              "      <td>male</td>\n",
              "      <td>32.3</td>\n",
              "      <td>0</td>\n",
              "      <td>no</td>\n",
              "      <td>southeast</td>\n",
              "      <td>8606.2174</td>\n",
              "    </tr>\n",
              "    <tr>\n",
              "      <th>freq</th>\n",
              "      <td>69</td>\n",
              "      <td>676</td>\n",
              "      <td>13</td>\n",
              "      <td>574</td>\n",
              "      <td>1064</td>\n",
              "      <td>364</td>\n",
              "      <td>1</td>\n",
              "    </tr>\n",
              "  </tbody>\n",
              "</table>\n",
              "</div>"
            ],
            "text/plain": [
              "         age   sex body_mass_index children smoker     region    charges\n",
              "count   1338  1338            1338     1338   1338       1338       1338\n",
              "unique    47     2             548        6      2          4       1338\n",
              "top       18  male            32.3        0     no  southeast  8606.2174\n",
              "freq      69   676              13      574   1064        364          1"
            ]
          },
          "execution_count": 121,
          "metadata": {},
          "output_type": "execute_result"
        }
      ],
      "source": [
        "insurance_df_pd.describe()"
      ]
    },
    {
      "cell_type": "markdown",
      "metadata": {},
      "source": [
        "### And then, some general info about the dataset. "
      ]
    },
    {
      "cell_type": "code",
      "execution_count": 122,
      "metadata": {},
      "outputs": [
        {
          "name": "stdout",
          "output_type": "stream",
          "text": [
            "<class 'pandas.core.frame.DataFrame'>\n",
            "RangeIndex: 1338 entries, 0 to 1337\n",
            "Data columns (total 7 columns):\n",
            " #   Column           Non-Null Count  Dtype \n",
            "---  ------           --------------  ----- \n",
            " 0   age              1338 non-null   object\n",
            " 1   sex              1338 non-null   object\n",
            " 2   body_mass_index  1338 non-null   object\n",
            " 3   children         1338 non-null   object\n",
            " 4   smoker           1338 non-null   object\n",
            " 5   region           1338 non-null   object\n",
            " 6   charges          1338 non-null   object\n",
            "dtypes: object(7)\n",
            "memory usage: 73.3+ KB\n"
          ]
        }
      ],
      "source": [
        "insurance_df_pd.info()"
      ]
    },
    {
      "cell_type": "markdown",
      "metadata": {
        "id": "wJ0nbXbTTuKc"
      },
      "source": [
        "### We can see there are three non-numerical variables: *sex,smoker and region*. We´ll \"code\" them. We´ll use the method of Scikit-learn named *LabelEncoder()*."
      ]
    },
    {
      "cell_type": "code",
      "execution_count": 126,
      "metadata": {
        "id": "MJTy8NIPTuKd",
        "outputId": "7a71c53b-bb72-4fa8-b07b-046e5dfeeb62"
      },
      "outputs": [
        {
          "data": {
            "text/plain": [
              "0       1\n",
              "1       1\n",
              "2       0\n",
              "3       0\n",
              "4       0\n",
              "       ..\n",
              "1333    1\n",
              "1334    0\n",
              "1335    0\n",
              "1336    1\n",
              "1337    0\n",
              "Name: sex, Length: 1338, dtype: int64"
            ]
          },
          "execution_count": 126,
          "metadata": {},
          "output_type": "execute_result"
        }
      ],
      "source": [
        "# sex\n",
        "\n",
        "encoder = preprocessing.LabelEncoder()\n",
        "\n",
        "insurance_df_pd['sex']= encoder.fit_transform(insurance_df_pd['sex'])\n",
        "\n",
        "insurance_df_pd['sex']"
      ]
    },
    {
      "cell_type": "code",
      "execution_count": 127,
      "metadata": {
        "id": "RXc5_v-7TuKd",
        "outputId": "b7b8d406-8392-4d30-8a79-dd5139cdb504"
      },
      "outputs": [
        {
          "data": {
            "text/plain": [
              "0       0\n",
              "1       1\n",
              "2       1\n",
              "3       0\n",
              "4       0\n",
              "       ..\n",
              "1333    0\n",
              "1334    0\n",
              "1335    0\n",
              "1336    1\n",
              "1337    0\n",
              "Name: smoker, Length: 1338, dtype: int64"
            ]
          },
          "execution_count": 127,
          "metadata": {},
          "output_type": "execute_result"
        }
      ],
      "source": [
        "# smoker\n",
        "\n",
        "encoder = preprocessing.LabelEncoder()\n",
        "\n",
        "insurance_df_pd['smoker']= encoder.fit_transform(insurance_df_pd['smoker'])\n",
        "\n",
        "insurance_df_pd['smoker']"
      ]
    },
    {
      "cell_type": "code",
      "execution_count": 128,
      "metadata": {
        "id": "rmfoFZhgTuKe",
        "outputId": "8f7832d1-07dd-4fc2-c59e-aecd42c47060"
      },
      "outputs": [
        {
          "data": {
            "text/plain": [
              "0       0\n",
              "1       2\n",
              "2       2\n",
              "3       1\n",
              "4       1\n",
              "       ..\n",
              "1333    0\n",
              "1334    3\n",
              "1335    1\n",
              "1336    2\n",
              "1337    2\n",
              "Name: region, Length: 1338, dtype: int64"
            ]
          },
          "execution_count": 128,
          "metadata": {},
          "output_type": "execute_result"
        }
      ],
      "source": [
        "# region\n",
        "\n",
        "encoder = preprocessing.LabelEncoder()\n",
        "\n",
        "insurance_df_pd['region']= encoder.fit_transform(insurance_df_pd['region'])\n",
        "\n",
        "insurance_df_pd['region']"
      ]
    },
    {
      "cell_type": "markdown",
      "metadata": {
        "id": "hh_32okTTuKe"
      },
      "source": [
        "#### Now, we´ve done the *data coding* we can take a glance at how the dataset looks like right now."
      ]
    },
    {
      "cell_type": "code",
      "execution_count": 129,
      "metadata": {
        "id": "HcpjBuXnTuKf",
        "outputId": "4a852423-25d3-4441-db43-cd4542f5b6bf"
      },
      "outputs": [
        {
          "data": {
            "text/html": [
              "<div>\n",
              "<style scoped>\n",
              "    .dataframe tbody tr th:only-of-type {\n",
              "        vertical-align: middle;\n",
              "    }\n",
              "\n",
              "    .dataframe tbody tr th {\n",
              "        vertical-align: top;\n",
              "    }\n",
              "\n",
              "    .dataframe thead th {\n",
              "        text-align: right;\n",
              "    }\n",
              "</style>\n",
              "<table border=\"1\" class=\"dataframe\">\n",
              "  <thead>\n",
              "    <tr style=\"text-align: right;\">\n",
              "      <th></th>\n",
              "      <th>age</th>\n",
              "      <th>sex</th>\n",
              "      <th>body_mass_index</th>\n",
              "      <th>children</th>\n",
              "      <th>smoker</th>\n",
              "      <th>region</th>\n",
              "      <th>charges</th>\n",
              "    </tr>\n",
              "  </thead>\n",
              "  <tbody>\n",
              "    <tr>\n",
              "      <th>0</th>\n",
              "      <td>43</td>\n",
              "      <td>1</td>\n",
              "      <td>27.36</td>\n",
              "      <td>3</td>\n",
              "      <td>0</td>\n",
              "      <td>0</td>\n",
              "      <td>8606.2174</td>\n",
              "    </tr>\n",
              "    <tr>\n",
              "      <th>1</th>\n",
              "      <td>48</td>\n",
              "      <td>1</td>\n",
              "      <td>24.42</td>\n",
              "      <td>0</td>\n",
              "      <td>1</td>\n",
              "      <td>2</td>\n",
              "      <td>21223.6758</td>\n",
              "    </tr>\n",
              "    <tr>\n",
              "      <th>2</th>\n",
              "      <td>20</td>\n",
              "      <td>0</td>\n",
              "      <td>26.84</td>\n",
              "      <td>1</td>\n",
              "      <td>1</td>\n",
              "      <td>2</td>\n",
              "      <td>17085.2676</td>\n",
              "    </tr>\n",
              "    <tr>\n",
              "      <th>3</th>\n",
              "      <td>47</td>\n",
              "      <td>0</td>\n",
              "      <td>29.545</td>\n",
              "      <td>1</td>\n",
              "      <td>0</td>\n",
              "      <td>1</td>\n",
              "      <td>8930.93455</td>\n",
              "    </tr>\n",
              "    <tr>\n",
              "      <th>4</th>\n",
              "      <td>36</td>\n",
              "      <td>0</td>\n",
              "      <td>30.02</td>\n",
              "      <td>0</td>\n",
              "      <td>0</td>\n",
              "      <td>1</td>\n",
              "      <td>5272.1758</td>\n",
              "    </tr>\n",
              "  </tbody>\n",
              "</table>\n",
              "</div>"
            ],
            "text/plain": [
              "  age  sex body_mass_index children  smoker  region     charges\n",
              "0  43    1           27.36        3       0       0   8606.2174\n",
              "1  48    1           24.42        0       1       2  21223.6758\n",
              "2  20    0           26.84        1       1       2  17085.2676\n",
              "3  47    0          29.545        1       0       1  8930.93455\n",
              "4  36    0           30.02        0       0       1   5272.1758"
            ]
          },
          "execution_count": 129,
          "metadata": {},
          "output_type": "execute_result"
        }
      ],
      "source": [
        "insurance_df_pd.head(5)"
      ]
    },
    {
      "cell_type": "markdown",
      "metadata": {
        "id": "4VtCe3WdTuKf"
      },
      "source": [
        "### We can see there are no categorical (non-numerical) values. Now, let´s take a look at the other library: Seaborn. We need to do further analysis with the heat map and the Pearson´s correlation matrix with all the variables to establish some relation between them (if there is some)."
      ]
    },
    {
      "cell_type": "code",
      "execution_count": 130,
      "metadata": {
        "id": "NeaZhmKFTuKs",
        "outputId": "44a2620e-86e1-4339-8112-0e6302513319"
      },
      "outputs": [
        {
          "data": {
            "text/plain": [
              "<Axes: >"
            ]
          },
          "execution_count": 130,
          "metadata": {},
          "output_type": "execute_result"
        },
        {
          "data": {
            "image/png": "[encoded data removed]",
            "text/plain": [
              "<Figure size 640x480 with 2 Axes>"
            ]
          },
          "metadata": {},
          "output_type": "display_data"
        }
      ],
      "source": [
        "# heatmap\n",
        "\n",
        "sb.heatmap(insurance_df_pd[['age', 'sex', 'body_mass_index', 'children', 'smoker', 'region', 'charges']].corr(),annot = True)"
      ]
    },
    {
      "cell_type": "markdown",
      "metadata": {
        "id": "C1iPZz4xTuKs"
      },
      "source": [
        "#### From the Perason´s correlation we can see that the variables that are more related are \"smoker\" (feature) and \"charges\" (labels) with a number of 0,79 (the maximum possible value is 1). Moreover, we can see the correlation of all the variables with the target ('charges')."
      ]
    },
    {
      "cell_type": "code",
      "execution_count": 131,
      "metadata": {
        "id": "WDEzd5RJTuKt",
        "outputId": "b36b76e4-a8d0-4f33-81c5-52d902bfe07e"
      },
      "outputs": [
        {
          "data": {
            "text/html": [
              "<div>\n",
              "<style scoped>\n",
              "    .dataframe tbody tr th:only-of-type {\n",
              "        vertical-align: middle;\n",
              "    }\n",
              "\n",
              "    .dataframe tbody tr th {\n",
              "        vertical-align: top;\n",
              "    }\n",
              "\n",
              "    .dataframe thead th {\n",
              "        text-align: right;\n",
              "    }\n",
              "</style>\n",
              "<table border=\"1\" class=\"dataframe\">\n",
              "  <thead>\n",
              "    <tr style=\"text-align: right;\">\n",
              "      <th></th>\n",
              "      <th>age</th>\n",
              "      <th>sex</th>\n",
              "      <th>body_mass_index</th>\n",
              "      <th>children</th>\n",
              "      <th>smoker</th>\n",
              "      <th>region</th>\n",
              "      <th>charges</th>\n",
              "    </tr>\n",
              "  </thead>\n",
              "  <tbody>\n",
              "    <tr>\n",
              "      <th>age</th>\n",
              "      <td>1.000000</td>\n",
              "      <td>-0.020651</td>\n",
              "      <td>0.110203</td>\n",
              "      <td>0.042287</td>\n",
              "      <td>-0.025134</td>\n",
              "      <td>0.002808</td>\n",
              "      <td>0.298845</td>\n",
              "    </tr>\n",
              "    <tr>\n",
              "      <th>sex</th>\n",
              "      <td>-0.020651</td>\n",
              "      <td>1.000000</td>\n",
              "      <td>0.045532</td>\n",
              "      <td>0.017163</td>\n",
              "      <td>0.076185</td>\n",
              "      <td>0.003916</td>\n",
              "      <td>0.057341</td>\n",
              "    </tr>\n",
              "    <tr>\n",
              "      <th>body_mass_index</th>\n",
              "      <td>0.110203</td>\n",
              "      <td>0.045532</td>\n",
              "      <td>1.000000</td>\n",
              "      <td>0.013504</td>\n",
              "      <td>0.004168</td>\n",
              "      <td>0.158536</td>\n",
              "      <td>0.198999</td>\n",
              "    </tr>\n",
              "    <tr>\n",
              "      <th>children</th>\n",
              "      <td>0.042287</td>\n",
              "      <td>0.017163</td>\n",
              "      <td>0.013504</td>\n",
              "      <td>1.000000</td>\n",
              "      <td>0.007673</td>\n",
              "      <td>0.017174</td>\n",
              "      <td>0.067959</td>\n",
              "    </tr>\n",
              "    <tr>\n",
              "      <th>smoker</th>\n",
              "      <td>-0.025134</td>\n",
              "      <td>0.076185</td>\n",
              "      <td>0.004168</td>\n",
              "      <td>0.007673</td>\n",
              "      <td>1.000000</td>\n",
              "      <td>-0.001836</td>\n",
              "      <td>0.787262</td>\n",
              "    </tr>\n",
              "    <tr>\n",
              "      <th>region</th>\n",
              "      <td>0.002808</td>\n",
              "      <td>0.003916</td>\n",
              "      <td>0.158536</td>\n",
              "      <td>0.017174</td>\n",
              "      <td>-0.001836</td>\n",
              "      <td>1.000000</td>\n",
              "      <td>-0.005619</td>\n",
              "    </tr>\n",
              "    <tr>\n",
              "      <th>charges</th>\n",
              "      <td>0.298845</td>\n",
              "      <td>0.057341</td>\n",
              "      <td>0.198999</td>\n",
              "      <td>0.067959</td>\n",
              "      <td>0.787262</td>\n",
              "      <td>-0.005619</td>\n",
              "      <td>1.000000</td>\n",
              "    </tr>\n",
              "  </tbody>\n",
              "</table>\n",
              "</div>"
            ],
            "text/plain": [
              "                      age       sex  body_mass_index  children    smoker  \\\n",
              "age              1.000000 -0.020651         0.110203  0.042287 -0.025134   \n",
              "sex             -0.020651  1.000000         0.045532  0.017163  0.076185   \n",
              "body_mass_index  0.110203  0.045532         1.000000  0.013504  0.004168   \n",
              "children         0.042287  0.017163         0.013504  1.000000  0.007673   \n",
              "smoker          -0.025134  0.076185         0.004168  0.007673  1.000000   \n",
              "region           0.002808  0.003916         0.158536  0.017174 -0.001836   \n",
              "charges          0.298845  0.057341         0.198999  0.067959  0.787262   \n",
              "\n",
              "                   region   charges  \n",
              "age              0.002808  0.298845  \n",
              "sex              0.003916  0.057341  \n",
              "body_mass_index  0.158536  0.198999  \n",
              "children         0.017174  0.067959  \n",
              "smoker          -0.001836  0.787262  \n",
              "region           1.000000 -0.005619  \n",
              "charges         -0.005619  1.000000  "
            ]
          },
          "execution_count": 131,
          "metadata": {},
          "output_type": "execute_result"
        }
      ],
      "source": [
        "corr_matrix = insurance_df_pd.corr()\n",
        "corr_matrix"
      ]
    },
    {
      "cell_type": "markdown",
      "metadata": {
        "id": "LVKUKBhPTuKt"
      },
      "source": [
        "#### Moreover, we can see the correlation of all the variables with the label ('charges')."
      ]
    },
    {
      "cell_type": "code",
      "execution_count": 132,
      "metadata": {
        "id": "uYMwyVHETuKu",
        "outputId": "cd7513a5-0d33-4e77-df84-7f49d8af9184"
      },
      "outputs": [
        {
          "data": {
            "text/plain": [
              "charges            1.000000\n",
              "smoker             0.787262\n",
              "age                0.298845\n",
              "body_mass_index    0.198999\n",
              "children           0.067959\n",
              "sex                0.057341\n",
              "region            -0.005619\n",
              "Name: charges, dtype: float64"
            ]
          },
          "execution_count": 132,
          "metadata": {},
          "output_type": "execute_result"
        }
      ],
      "source": [
        "corr_matrix['charges'].sort_values(ascending=False)"
      ]
    },
    {
      "cell_type": "markdown",
      "metadata": {
        "id": "wx3Bd35TTuKu"
      },
      "source": [
        "#### Once again, we see the closest relation is between smoker and charges. This will be useful for the selection of the attributes."
      ]
    },
    {
      "cell_type": "markdown",
      "metadata": {
        "id": "hmDD18VITuKu"
      },
      "source": [
        "# **6. Selection of the attributes**"
      ]
    },
    {
      "cell_type": "code",
      "execution_count": 133,
      "metadata": {
        "id": "L0rL8Bz3TuKv"
      },
      "outputs": [],
      "source": [
        "X = insurance_df_pd['smoker']   ## X\n",
        "\n",
        "Y = insurance_df_pd['charges']   ## Y"
      ]
    },
    {
      "cell_type": "code",
      "execution_count": 134,
      "metadata": {
        "id": "XLhflYK5TuKv",
        "outputId": "264dbfaa-6989-40f1-a437-7aed13d488de"
      },
      "outputs": [
        {
          "data": {
            "text/plain": [
              "(1338,)"
            ]
          },
          "execution_count": 134,
          "metadata": {},
          "output_type": "execute_result"
        }
      ],
      "source": [
        "X.shape"
      ]
    },
    {
      "cell_type": "code",
      "execution_count": 135,
      "metadata": {
        "id": "ultBj7AGTuKw",
        "outputId": "a520251a-6f8e-47dd-e770-d7d6c36721ad"
      },
      "outputs": [
        {
          "data": {
            "text/plain": [
              "(1338,)"
            ]
          },
          "execution_count": 135,
          "metadata": {},
          "output_type": "execute_result"
        }
      ],
      "source": [
        "Y.shape"
      ]
    },
    {
      "cell_type": "code",
      "execution_count": 136,
      "metadata": {
        "id": "QcRSX3AmTuKw",
        "outputId": "d45f02d8-714f-4595-f967-650efca5e3c2"
      },
      "outputs": [
        {
          "name": "stdout",
          "output_type": "stream",
          "text": [
            "(1338, 1)\n",
            "(1338, 1)\n"
          ]
        }
      ],
      "source": [
        "X_smoker = np.array(X).reshape(-1,1)\n",
        "Y_charges = np.array(Y).reshape(-1,1)\n",
        "\n",
        "print(X_smoker.shape)\n",
        "print(Y_charges.shape)"
      ]
    },
    {
      "cell_type": "markdown",
      "metadata": {
        "id": "vzCEUalgTuKw"
      },
      "source": [
        "##  **6.1 Train/Test/Val split**"
      ]
    },
    {
      "cell_type": "code",
      "execution_count": 137,
      "metadata": {
        "id": "g_jjc6Z6TuKx"
      },
      "outputs": [],
      "source": [
        "X_train,X_val, Y_train, Y_val = train_test_split(X_smoker,Y_charges, test_size=0.2)"
      ]
    },
    {
      "cell_type": "code",
      "execution_count": 138,
      "metadata": {
        "id": "G85QQ6jcTuKx",
        "outputId": "316f7886-e46f-4a97-9d47-097e7e535c2f"
      },
      "outputs": [
        {
          "name": "stdout",
          "output_type": "stream",
          "text": [
            "(1070, 1)\n",
            "(268, 1)\n",
            "(1070, 1)\n",
            "(268, 1)\n"
          ]
        }
      ],
      "source": [
        "print(X_train.shape)\n",
        "print(X_val.shape)\n",
        "print(Y_train.shape)\n",
        "print(Y_val.shape)"
      ]
    },
    {
      "cell_type": "markdown",
      "metadata": {
        "id": "eHM1h_BsTuKy"
      },
      "source": [
        "## **6.2 Scaler**"
      ]
    },
    {
      "cell_type": "code",
      "execution_count": 139,
      "metadata": {
        "id": "bwL8UD7VTuKy"
      },
      "outputs": [],
      "source": [
        "scaler = StandardScaler()\n",
        "\n",
        "X_train = scaler.fit_transform(X_train)"
      ]
    },
    {
      "cell_type": "code",
      "execution_count": 140,
      "metadata": {
        "id": "TUxAY4kTTuKy",
        "outputId": "1cd9506d-49dd-42c5-f260-4122ba7cce37"
      },
      "outputs": [
        {
          "data": {
            "text/plain": [
              "array([[ 1.99417757],\n",
              "       [-0.50145986],\n",
              "       [ 1.99417757],\n",
              "       ...,\n",
              "       [-0.50145986],\n",
              "       [-0.50145986],\n",
              "       [-0.50145986]])"
            ]
          },
          "execution_count": 140,
          "metadata": {},
          "output_type": "execute_result"
        }
      ],
      "source": [
        "X_train"
      ]
    },
    {
      "cell_type": "code",
      "execution_count": 141,
      "metadata": {
        "id": "ZoPU5_esTuKz",
        "outputId": "a8b8bc91-cda9-4401-d923-c247517d5f2f"
      },
      "outputs": [
        {
          "data": {
            "text/plain": [
              "array([['34672.1472'],\n",
              "       ['28287.89766'],\n",
              "       ['42112.2356'],\n",
              "       ...,\n",
              "       ['3594.17085'],\n",
              "       ['12815.44495'],\n",
              "       ['1842.519']], dtype=object)"
            ]
          },
          "execution_count": 141,
          "metadata": {},
          "output_type": "execute_result"
        }
      ],
      "source": [
        "Y_train"
      ]
    },
    {
      "cell_type": "code",
      "execution_count": 142,
      "metadata": {
        "id": "Vpx_IviNTuKz"
      },
      "outputs": [],
      "source": [
        "X_val = scaler.transform(X_val)"
      ]
    },
    {
      "cell_type": "markdown",
      "metadata": {
        "id": "TF973ot7TuK0"
      },
      "source": [
        "# **7. Training of the model (Linear Regression)**"
      ]
    },
    {
      "cell_type": "markdown",
      "metadata": {
        "id": "V1Oz-nmsTuK1"
      },
      "source": [
        "## **7.1 Training the model**"
      ]
    },
    {
      "cell_type": "code",
      "execution_count": 143,
      "metadata": {
        "id": "oCqKnRF9TuK1",
        "outputId": "23af716d-eaad-4f04-fe72-86eace5c910c"
      },
      "outputs": [
        {
          "data": {
            "text/html": [
              "<style>#sk-container-id-2 {\n",
              "  /* Definition of color scheme common for light and dark mode */\n",
              "  --sklearn-color-text: black;\n",
              "  --sklearn-color-line: gray;\n",
              "  /* Definition of color scheme for unfitted estimators */\n",
              "  --sklearn-color-unfitted-level-0: #fff5e6;\n",
              "  --sklearn-color-unfitted-level-1: #f6e4d2;\n",
              "  --sklearn-color-unfitted-level-2: #ffe0b3;\n",
              "  --sklearn-color-unfitted-level-3: chocolate;\n",
              "  /* Definition of color scheme for fitted estimators */\n",
              "  --sklearn-color-fitted-level-0: #f0f8ff;\n",
              "  --sklearn-color-fitted-level-1: #d4ebff;\n",
              "  --sklearn-color-fitted-level-2: #b3dbfd;\n",
              "  --sklearn-color-fitted-level-3: cornflowerblue;\n",
              "\n",
              "  /* Specific color for light theme */\n",
              "  --sklearn-color-text-on-default-background: var(--sg-text-color, var(--theme-code-foreground, var(--jp-content-font-color1, black)));\n",
              "  --sklearn-color-background: var(--sg-background-color, var(--theme-background, var(--jp-layout-color0, white)));\n",
              "  --sklearn-color-border-box: var(--sg-text-color, var(--theme-code-foreground, var(--jp-content-font-color1, black)));\n",
              "  --sklearn-color-icon: #696969;\n",
              "\n",
              "  @media (prefers-color-scheme: dark) {\n",
              "    /* Redefinition of color scheme for dark theme */\n",
              "    --sklearn-color-text-on-default-background: var(--sg-text-color, var(--theme-code-foreground, var(--jp-content-font-color1, white)));\n",
              "    --sklearn-color-background: var(--sg-background-color, var(--theme-background, var(--jp-layout-color0, #111)));\n",
              "    --sklearn-color-border-box: var(--sg-text-color, var(--theme-code-foreground, var(--jp-content-font-color1, white)));\n",
              "    --sklearn-color-icon: #878787;\n",
              "  }\n",
              "}\n",
              "\n",
              "#sk-container-id-2 {\n",
              "  color: var(--sklearn-color-text);\n",
              "}\n",
              "\n",
              "#sk-container-id-2 pre {\n",
              "  padding: 0;\n",
              "}\n",
              "\n",
              "#sk-container-id-2 input.sk-hidden--visually {\n",
              "  border: 0;\n",
              "  clip: rect(1px 1px 1px 1px);\n",
              "  clip: rect(1px, 1px, 1px, 1px);\n",
              "  height: 1px;\n",
              "  margin: -1px;\n",
              "  overflow: hidden;\n",
              "  padding: 0;\n",
              "  position: absolute;\n",
              "  width: 1px;\n",
              "}\n",
              "\n",
              "#sk-container-id-2 div.sk-dashed-wrapped {\n",
              "  border: 1px dashed var(--sklearn-color-line);\n",
              "  margin: 0 0.4em 0.5em 0.4em;\n",
              "  box-sizing: border-box;\n",
              "  padding-bottom: 0.4em;\n",
              "  background-color: var(--sklearn-color-background);\n",
              "}\n",
              "\n",
              "#sk-container-id-2 div.sk-container {\n",
              "  /* jupyter's `normalize.less` sets `[hidden] { display: none; }`\n",
              "     but bootstrap.min.css set `[hidden] { display: none !important; }`\n",
              "     so we also need the `!important` here to be able to override the\n",
              "     default hidden behavior on the sphinx rendered scikit-learn.org.\n",
              "     See: https://github.com/scikit-learn/scikit-learn/issues/21755 */\n",
              "  display: inline-block !important;\n",
              "  position: relative;\n",
              "}\n",
              "\n",
              "#sk-container-id-2 div.sk-text-repr-fallback {\n",
              "  display: none;\n",
              "}\n",
              "\n",
              "div.sk-parallel-item,\n",
              "div.sk-serial,\n",
              "div.sk-item {\n",
              "  /* draw centered vertical line to link estimators */\n",
              "  background-image: linear-gradient(var(--sklearn-color-text-on-default-background), var(--sklearn-color-text-on-default-background));\n",
              "  background-size: 2px 100%;\n",
              "  background-repeat: no-repeat;\n",
              "  background-position: center center;\n",
              "}\n",
              "\n",
              "/* Parallel-specific style estimator block */\n",
              "\n",
              "#sk-container-id-2 div.sk-parallel-item::after {\n",
              "  content: \"\";\n",
              "  width: 100%;\n",
              "  border-bottom: 2px solid var(--sklearn-color-text-on-default-background);\n",
              "  flex-grow: 1;\n",
              "}\n",
              "\n",
              "#sk-container-id-2 div.sk-parallel {\n",
              "  display: flex;\n",
              "  align-items: stretch;\n",
              "  justify-content: center;\n",
              "  background-color: var(--sklearn-color-background);\n",
              "  position: relative;\n",
              "}\n",
              "\n",
              "#sk-container-id-2 div.sk-parallel-item {\n",
              "  display: flex;\n",
              "  flex-direction: column;\n",
              "}\n",
              "\n",
              "#sk-container-id-2 div.sk-parallel-item:first-child::after {\n",
              "  align-self: flex-end;\n",
              "  width: 50%;\n",
              "}\n",
              "\n",
              "#sk-container-id-2 div.sk-parallel-item:last-child::after {\n",
              "  align-self: flex-start;\n",
              "  width: 50%;\n",
              "}\n",
              "\n",
              "#sk-container-id-2 div.sk-parallel-item:only-child::after {\n",
              "  width: 0;\n",
              "}\n",
              "\n",
              "/* Serial-specific style estimator block */\n",
              "\n",
              "#sk-container-id-2 div.sk-serial {\n",
              "  display: flex;\n",
              "  flex-direction: column;\n",
              "  align-items: center;\n",
              "  background-color: var(--sklearn-color-background);\n",
              "  padding-right: 1em;\n",
              "  padding-left: 1em;\n",
              "}\n",
              "\n",
              "\n",
              "/* Toggleable style: style used for estimator/Pipeline/ColumnTransformer box that is\n",
              "clickable and can be expanded/collapsed.\n",
              "- Pipeline and ColumnTransformer use this feature and define the default style\n",
              "- Estimators will overwrite some part of the style using the `sk-estimator` class\n",
              "*/\n",
              "\n",
              "/* Pipeline and ColumnTransformer style (default) */\n",
              "\n",
              "#sk-container-id-2 div.sk-toggleable {\n",
              "  /* Default theme specific background. It is overwritten whether we have a\n",
              "  specific estimator or a Pipeline/ColumnTransformer */\n",
              "  background-color: var(--sklearn-color-background);\n",
              "}\n",
              "\n",
              "/* Toggleable label */\n",
              "#sk-container-id-2 label.sk-toggleable__label {\n",
              "  cursor: pointer;\n",
              "  display: block;\n",
              "  width: 100%;\n",
              "  margin-bottom: 0;\n",
              "  padding: 0.5em;\n",
              "  box-sizing: border-box;\n",
              "  text-align: center;\n",
              "}\n",
              "\n",
              "#sk-container-id-2 label.sk-toggleable__label-arrow:before {\n",
              "  /* Arrow on the left of the label */\n",
              "  content: \"▸\";\n",
              "  float: left;\n",
              "  margin-right: 0.25em;\n",
              "  color: var(--sklearn-color-icon);\n",
              "}\n",
              "\n",
              "#sk-container-id-2 label.sk-toggleable__label-arrow:hover:before {\n",
              "  color: var(--sklearn-color-text);\n",
              "}\n",
              "\n",
              "/* Toggleable content - dropdown */\n",
              "\n",
              "#sk-container-id-2 div.sk-toggleable__content {\n",
              "  max-height: 0;\n",
              "  max-width: 0;\n",
              "  overflow: hidden;\n",
              "  text-align: left;\n",
              "  /* unfitted */\n",
              "  background-color: var(--sklearn-color-unfitted-level-0);\n",
              "}\n",
              "\n",
              "#sk-container-id-2 div.sk-toggleable__content.fitted {\n",
              "  /* fitted */\n",
              "  background-color: var(--sklearn-color-fitted-level-0);\n",
              "}\n",
              "\n",
              "#sk-container-id-2 div.sk-toggleable__content pre {\n",
              "  margin: 0.2em;\n",
              "  border-radius: 0.25em;\n",
              "  color: var(--sklearn-color-text);\n",
              "  /* unfitted */\n",
              "  background-color: var(--sklearn-color-unfitted-level-0);\n",
              "}\n",
              "\n",
              "#sk-container-id-2 div.sk-toggleable__content.fitted pre {\n",
              "  /* unfitted */\n",
              "  background-color: var(--sklearn-color-fitted-level-0);\n",
              "}\n",
              "\n",
              "#sk-container-id-2 input.sk-toggleable__control:checked~div.sk-toggleable__content {\n",
              "  /* Expand drop-down */\n",
              "  max-height: 200px;\n",
              "  max-width: 100%;\n",
              "  overflow: auto;\n",
              "}\n",
              "\n",
              "#sk-container-id-2 input.sk-toggleable__control:checked~label.sk-toggleable__label-arrow:before {\n",
              "  content: \"▾\";\n",
              "}\n",
              "\n",
              "/* Pipeline/ColumnTransformer-specific style */\n",
              "\n",
              "#sk-container-id-2 div.sk-label input.sk-toggleable__control:checked~label.sk-toggleable__label {\n",
              "  color: var(--sklearn-color-text);\n",
              "  background-color: var(--sklearn-color-unfitted-level-2);\n",
              "}\n",
              "\n",
              "#sk-container-id-2 div.sk-label.fitted input.sk-toggleable__control:checked~label.sk-toggleable__label {\n",
              "  background-color: var(--sklearn-color-fitted-level-2);\n",
              "}\n",
              "\n",
              "/* Estimator-specific style */\n",
              "\n",
              "/* Colorize estimator box */\n",
              "#sk-container-id-2 div.sk-estimator input.sk-toggleable__control:checked~label.sk-toggleable__label {\n",
              "  /* unfitted */\n",
              "  background-color: var(--sklearn-color-unfitted-level-2);\n",
              "}\n",
              "\n",
              "#sk-container-id-2 div.sk-estimator.fitted input.sk-toggleable__control:checked~label.sk-toggleable__label {\n",
              "  /* fitted */\n",
              "  background-color: var(--sklearn-color-fitted-level-2);\n",
              "}\n",
              "\n",
              "#sk-container-id-2 div.sk-label label.sk-toggleable__label,\n",
              "#sk-container-id-2 div.sk-label label {\n",
              "  /* The background is the default theme color */\n",
              "  color: var(--sklearn-color-text-on-default-background);\n",
              "}\n",
              "\n",
              "/* On hover, darken the color of the background */\n",
              "#sk-container-id-2 div.sk-label:hover label.sk-toggleable__label {\n",
              "  color: var(--sklearn-color-text);\n",
              "  background-color: var(--sklearn-color-unfitted-level-2);\n",
              "}\n",
              "\n",
              "/* Label box, darken color on hover, fitted */\n",
              "#sk-container-id-2 div.sk-label.fitted:hover label.sk-toggleable__label.fitted {\n",
              "  color: var(--sklearn-color-text);\n",
              "  background-color: var(--sklearn-color-fitted-level-2);\n",
              "}\n",
              "\n",
              "/* Estimator label */\n",
              "\n",
              "#sk-container-id-2 div.sk-label label {\n",
              "  font-family: monospace;\n",
              "  font-weight: bold;\n",
              "  display: inline-block;\n",
              "  line-height: 1.2em;\n",
              "}\n",
              "\n",
              "#sk-container-id-2 div.sk-label-container {\n",
              "  text-align: center;\n",
              "}\n",
              "\n",
              "/* Estimator-specific */\n",
              "#sk-container-id-2 div.sk-estimator {\n",
              "  font-family: monospace;\n",
              "  border: 1px dotted var(--sklearn-color-border-box);\n",
              "  border-radius: 0.25em;\n",
              "  box-sizing: border-box;\n",
              "  margin-bottom: 0.5em;\n",
              "  /* unfitted */\n",
              "  background-color: var(--sklearn-color-unfitted-level-0);\n",
              "}\n",
              "\n",
              "#sk-container-id-2 div.sk-estimator.fitted {\n",
              "  /* fitted */\n",
              "  background-color: var(--sklearn-color-fitted-level-0);\n",
              "}\n",
              "\n",
              "/* on hover */\n",
              "#sk-container-id-2 div.sk-estimator:hover {\n",
              "  /* unfitted */\n",
              "  background-color: var(--sklearn-color-unfitted-level-2);\n",
              "}\n",
              "\n",
              "#sk-container-id-2 div.sk-estimator.fitted:hover {\n",
              "  /* fitted */\n",
              "  background-color: var(--sklearn-color-fitted-level-2);\n",
              "}\n",
              "\n",
              "/* Specification for estimator info (e.g. \"i\" and \"?\") */\n",
              "\n",
              "/* Common style for \"i\" and \"?\" */\n",
              "\n",
              ".sk-estimator-doc-link,\n",
              "a:link.sk-estimator-doc-link,\n",
              "a:visited.sk-estimator-doc-link {\n",
              "  float: right;\n",
              "  font-size: smaller;\n",
              "  line-height: 1em;\n",
              "  font-family: monospace;\n",
              "  background-color: var(--sklearn-color-background);\n",
              "  border-radius: 1em;\n",
              "  height: 1em;\n",
              "  width: 1em;\n",
              "  text-decoration: none !important;\n",
              "  margin-left: 1ex;\n",
              "  /* unfitted */\n",
              "  border: var(--sklearn-color-unfitted-level-1) 1pt solid;\n",
              "  color: var(--sklearn-color-unfitted-level-1);\n",
              "}\n",
              "\n",
              ".sk-estimator-doc-link.fitted,\n",
              "a:link.sk-estimator-doc-link.fitted,\n",
              "a:visited.sk-estimator-doc-link.fitted {\n",
              "  /* fitted */\n",
              "  border: var(--sklearn-color-fitted-level-1) 1pt solid;\n",
              "  color: var(--sklearn-color-fitted-level-1);\n",
              "}\n",
              "\n",
              "/* On hover */\n",
              "div.sk-estimator:hover .sk-estimator-doc-link:hover,\n",
              ".sk-estimator-doc-link:hover,\n",
              "div.sk-label-container:hover .sk-estimator-doc-link:hover,\n",
              ".sk-estimator-doc-link:hover {\n",
              "  /* unfitted */\n",
              "  background-color: var(--sklearn-color-unfitted-level-3);\n",
              "  color: var(--sklearn-color-background);\n",
              "  text-decoration: none;\n",
              "}\n",
              "\n",
              "div.sk-estimator.fitted:hover .sk-estimator-doc-link.fitted:hover,\n",
              ".sk-estimator-doc-link.fitted:hover,\n",
              "div.sk-label-container:hover .sk-estimator-doc-link.fitted:hover,\n",
              ".sk-estimator-doc-link.fitted:hover {\n",
              "  /* fitted */\n",
              "  background-color: var(--sklearn-color-fitted-level-3);\n",
              "  color: var(--sklearn-color-background);\n",
              "  text-decoration: none;\n",
              "}\n",
              "\n",
              "/* Span, style for the box shown on hovering the info icon */\n",
              ".sk-estimator-doc-link span {\n",
              "  display: none;\n",
              "  z-index: 9999;\n",
              "  position: relative;\n",
              "  font-weight: normal;\n",
              "  right: .2ex;\n",
              "  padding: .5ex;\n",
              "  margin: .5ex;\n",
              "  width: min-content;\n",
              "  min-width: 20ex;\n",
              "  max-width: 50ex;\n",
              "  color: var(--sklearn-color-text);\n",
              "  box-shadow: 2pt 2pt 4pt #999;\n",
              "  /* unfitted */\n",
              "  background: var(--sklearn-color-unfitted-level-0);\n",
              "  border: .5pt solid var(--sklearn-color-unfitted-level-3);\n",
              "}\n",
              "\n",
              ".sk-estimator-doc-link.fitted span {\n",
              "  /* fitted */\n",
              "  background: var(--sklearn-color-fitted-level-0);\n",
              "  border: var(--sklearn-color-fitted-level-3);\n",
              "}\n",
              "\n",
              ".sk-estimator-doc-link:hover span {\n",
              "  display: block;\n",
              "}\n",
              "\n",
              "/* \"?\"-specific style due to the `<a>` HTML tag */\n",
              "\n",
              "#sk-container-id-2 a.estimator_doc_link {\n",
              "  float: right;\n",
              "  font-size: 1rem;\n",
              "  line-height: 1em;\n",
              "  font-family: monospace;\n",
              "  background-color: var(--sklearn-color-background);\n",
              "  border-radius: 1rem;\n",
              "  height: 1rem;\n",
              "  width: 1rem;\n",
              "  text-decoration: none;\n",
              "  /* unfitted */\n",
              "  color: var(--sklearn-color-unfitted-level-1);\n",
              "  border: var(--sklearn-color-unfitted-level-1) 1pt solid;\n",
              "}\n",
              "\n",
              "#sk-container-id-2 a.estimator_doc_link.fitted {\n",
              "  /* fitted */\n",
              "  border: var(--sklearn-color-fitted-level-1) 1pt solid;\n",
              "  color: var(--sklearn-color-fitted-level-1);\n",
              "}\n",
              "\n",
              "/* On hover */\n",
              "#sk-container-id-2 a.estimator_doc_link:hover {\n",
              "  /* unfitted */\n",
              "  background-color: var(--sklearn-color-unfitted-level-3);\n",
              "  color: var(--sklearn-color-background);\n",
              "  text-decoration: none;\n",
              "}\n",
              "\n",
              "#sk-container-id-2 a.estimator_doc_link.fitted:hover {\n",
              "  /* fitted */\n",
              "  background-color: var(--sklearn-color-fitted-level-3);\n",
              "}\n",
              "</style><div id=\"sk-container-id-2\" class=\"sk-top-container\"><div class=\"sk-text-repr-fallback\"><pre>LinearRegression()</pre><b>In a Jupyter environment, please rerun this cell to show the HTML representation or trust the notebook. <br />On GitHub, the HTML representation is unable to render, please try loading this page with nbviewer.org.</b></div><div class=\"sk-container\" hidden><div class=\"sk-item\"><div class=\"sk-estimator fitted sk-toggleable\"><input class=\"sk-toggleable__control sk-hidden--visually\" id=\"sk-estimator-id-2\" type=\"checkbox\" checked><label for=\"sk-estimator-id-2\" class=\"sk-toggleable__label fitted sk-toggleable__label-arrow fitted\">&nbsp;&nbsp;LinearRegression<a class=\"sk-estimator-doc-link fitted\" rel=\"noreferrer\" target=\"_blank\" href=\"https://scikit-learn.org/1.4/modules/generated/sklearn.linear_model.LinearRegression.html\">?<span>Documentation for LinearRegression</span></a><span class=\"sk-estimator-doc-link fitted\">i<span>Fitted</span></span></label><div class=\"sk-toggleable__content fitted\"><pre>LinearRegression()</pre></div> </div></div></div></div>"
            ],
            "text/plain": [
              "LinearRegression()"
            ]
          },
          "execution_count": 143,
          "metadata": {},
          "output_type": "execute_result"
        }
      ],
      "source": [
        "# here, we fix the model as Linear Regression\n",
        "\n",
        "model = sklearn.linear_model.LinearRegression()\n",
        "model.fit(X_train,Y_train)"
      ]
    },
    {
      "cell_type": "markdown",
      "metadata": {
        "id": "_x__tjC2TuK3"
      },
      "source": [
        "## **7.2 Predictions of the model**"
      ]
    },
    {
      "cell_type": "code",
      "execution_count": 144,
      "metadata": {
        "id": "xv8UsyhuTuK3",
        "outputId": "7321d0cd-d0b9-40e7-db39-1a229d6a7206"
      },
      "outputs": [
        {
          "name": "stdout",
          "output_type": "stream",
          "text": [
            "(268, 1)\n",
            "(268, 1)\n",
            "[[ 8336.23464463]\n",
            " [ 8336.23464463]\n",
            " [31833.68590177]\n",
            " [ 8336.23464463]\n",
            " [ 8336.23464463]\n",
            " [ 8336.23464463]\n",
            " [ 8336.23464463]\n",
            " [31833.68590177]\n",
            " [ 8336.23464463]\n",
            " [ 8336.23464463]\n",
            " [ 8336.23464463]\n",
            " [ 8336.23464463]\n",
            " [ 8336.23464463]\n",
            " [ 8336.23464463]\n",
            " [31833.68590177]\n",
            " [ 8336.23464463]\n",
            " [31833.68590177]\n",
            " [ 8336.23464463]\n",
            " [31833.68590177]\n",
            " [ 8336.23464463]\n",
            " [ 8336.23464463]\n",
            " [31833.68590177]\n",
            " [31833.68590177]\n",
            " [ 8336.23464463]\n",
            " [ 8336.23464463]\n",
            " [ 8336.23464463]\n",
            " [ 8336.23464463]\n",
            " [31833.68590177]\n",
            " [ 8336.23464463]\n",
            " [ 8336.23464463]\n",
            " [ 8336.23464463]\n",
            " [ 8336.23464463]\n",
            " [ 8336.23464463]\n",
            " [31833.68590177]\n",
            " [ 8336.23464463]\n",
            " [31833.68590177]\n",
            " [ 8336.23464463]\n",
            " [31833.68590177]\n",
            " [ 8336.23464463]\n",
            " [ 8336.23464463]\n",
            " [ 8336.23464463]\n",
            " [ 8336.23464463]\n",
            " [ 8336.23464463]\n",
            " [31833.68590177]\n",
            " [ 8336.23464463]\n",
            " [ 8336.23464463]\n",
            " [ 8336.23464463]\n",
            " [ 8336.23464463]\n",
            " [ 8336.23464463]\n",
            " [ 8336.23464463]\n",
            " [31833.68590177]\n",
            " [ 8336.23464463]\n",
            " [ 8336.23464463]\n",
            " [ 8336.23464463]\n",
            " [ 8336.23464463]\n",
            " [ 8336.23464463]\n",
            " [ 8336.23464463]\n",
            " [ 8336.23464463]\n",
            " [31833.68590177]\n",
            " [ 8336.23464463]\n",
            " [ 8336.23464463]\n",
            " [31833.68590177]\n",
            " [ 8336.23464463]\n",
            " [ 8336.23464463]\n",
            " [ 8336.23464463]\n",
            " [ 8336.23464463]\n",
            " [ 8336.23464463]\n",
            " [31833.68590177]\n",
            " [31833.68590177]\n",
            " [31833.68590177]\n",
            " [ 8336.23464463]\n",
            " [ 8336.23464463]\n",
            " [ 8336.23464463]\n",
            " [ 8336.23464463]\n",
            " [ 8336.23464463]\n",
            " [ 8336.23464463]\n",
            " [31833.68590177]\n",
            " [ 8336.23464463]\n",
            " [ 8336.23464463]\n",
            " [ 8336.23464463]\n",
            " [ 8336.23464463]\n",
            " [ 8336.23464463]\n",
            " [31833.68590177]\n",
            " [ 8336.23464463]\n",
            " [ 8336.23464463]\n",
            " [ 8336.23464463]\n",
            " [31833.68590177]\n",
            " [ 8336.23464463]\n",
            " [ 8336.23464463]\n",
            " [ 8336.23464463]\n",
            " [ 8336.23464463]\n",
            " [ 8336.23464463]\n",
            " [ 8336.23464463]\n",
            " [ 8336.23464463]\n",
            " [ 8336.23464463]\n",
            " [31833.68590177]\n",
            " [ 8336.23464463]\n",
            " [ 8336.23464463]\n",
            " [ 8336.23464463]\n",
            " [ 8336.23464463]\n",
            " [ 8336.23464463]\n",
            " [31833.68590177]\n",
            " [ 8336.23464463]\n",
            " [ 8336.23464463]\n",
            " [ 8336.23464463]\n",
            " [31833.68590177]\n",
            " [ 8336.23464463]\n",
            " [ 8336.23464463]\n",
            " [ 8336.23464463]\n",
            " [ 8336.23464463]\n",
            " [ 8336.23464463]\n",
            " [ 8336.23464463]\n",
            " [ 8336.23464463]\n",
            " [ 8336.23464463]\n",
            " [ 8336.23464463]\n",
            " [ 8336.23464463]\n",
            " [ 8336.23464463]\n",
            " [ 8336.23464463]\n",
            " [ 8336.23464463]\n",
            " [ 8336.23464463]\n",
            " [ 8336.23464463]\n",
            " [ 8336.23464463]\n",
            " [ 8336.23464463]\n",
            " [31833.68590177]\n",
            " [31833.68590177]\n",
            " [31833.68590177]\n",
            " [ 8336.23464463]\n",
            " [ 8336.23464463]\n",
            " [ 8336.23464463]\n",
            " [ 8336.23464463]\n",
            " [31833.68590177]\n",
            " [31833.68590177]\n",
            " [31833.68590177]\n",
            " [31833.68590177]\n",
            " [ 8336.23464463]\n",
            " [ 8336.23464463]\n",
            " [ 8336.23464463]\n",
            " [ 8336.23464463]\n",
            " [ 8336.23464463]\n",
            " [ 8336.23464463]\n",
            " [ 8336.23464463]\n",
            " [31833.68590177]\n",
            " [ 8336.23464463]\n",
            " [ 8336.23464463]\n",
            " [31833.68590177]\n",
            " [ 8336.23464463]\n",
            " [31833.68590177]\n",
            " [ 8336.23464463]\n",
            " [31833.68590177]\n",
            " [ 8336.23464463]\n",
            " [ 8336.23464463]\n",
            " [31833.68590177]\n",
            " [ 8336.23464463]\n",
            " [ 8336.23464463]\n",
            " [ 8336.23464463]\n",
            " [ 8336.23464463]\n",
            " [ 8336.23464463]\n",
            " [ 8336.23464463]\n",
            " [ 8336.23464463]\n",
            " [31833.68590177]\n",
            " [ 8336.23464463]\n",
            " [ 8336.23464463]\n",
            " [31833.68590177]\n",
            " [ 8336.23464463]\n",
            " [ 8336.23464463]\n",
            " [ 8336.23464463]\n",
            " [31833.68590177]\n",
            " [ 8336.23464463]\n",
            " [ 8336.23464463]\n",
            " [ 8336.23464463]\n",
            " [ 8336.23464463]\n",
            " [ 8336.23464463]\n",
            " [ 8336.23464463]\n",
            " [ 8336.23464463]\n",
            " [ 8336.23464463]\n",
            " [ 8336.23464463]\n",
            " [ 8336.23464463]\n",
            " [31833.68590177]\n",
            " [ 8336.23464463]\n",
            " [ 8336.23464463]\n",
            " [ 8336.23464463]\n",
            " [31833.68590177]\n",
            " [ 8336.23464463]\n",
            " [ 8336.23464463]\n",
            " [ 8336.23464463]\n",
            " [ 8336.23464463]\n",
            " [31833.68590177]\n",
            " [31833.68590177]\n",
            " [ 8336.23464463]\n",
            " [ 8336.23464463]\n",
            " [ 8336.23464463]\n",
            " [ 8336.23464463]\n",
            " [ 8336.23464463]\n",
            " [ 8336.23464463]\n",
            " [ 8336.23464463]\n",
            " [ 8336.23464463]\n",
            " [ 8336.23464463]\n",
            " [31833.68590177]\n",
            " [ 8336.23464463]\n",
            " [31833.68590177]\n",
            " [ 8336.23464463]\n",
            " [ 8336.23464463]\n",
            " [ 8336.23464463]\n",
            " [ 8336.23464463]\n",
            " [ 8336.23464463]\n",
            " [ 8336.23464463]\n",
            " [ 8336.23464463]\n",
            " [ 8336.23464463]\n",
            " [ 8336.23464463]\n",
            " [ 8336.23464463]\n",
            " [31833.68590177]\n",
            " [ 8336.23464463]\n",
            " [ 8336.23464463]\n",
            " [ 8336.23464463]\n",
            " [ 8336.23464463]\n",
            " [31833.68590177]\n",
            " [31833.68590177]\n",
            " [ 8336.23464463]\n",
            " [ 8336.23464463]\n",
            " [ 8336.23464463]\n",
            " [ 8336.23464463]\n",
            " [31833.68590177]\n",
            " [ 8336.23464463]\n",
            " [31833.68590177]\n",
            " [ 8336.23464463]\n",
            " [ 8336.23464463]\n",
            " [ 8336.23464463]\n",
            " [ 8336.23464463]\n",
            " [ 8336.23464463]\n",
            " [ 8336.23464463]\n",
            " [31833.68590177]\n",
            " [ 8336.23464463]\n",
            " [31833.68590177]\n",
            " [ 8336.23464463]\n",
            " [ 8336.23464463]\n",
            " [31833.68590177]\n",
            " [31833.68590177]\n",
            " [ 8336.23464463]\n",
            " [ 8336.23464463]\n",
            " [ 8336.23464463]\n",
            " [ 8336.23464463]\n",
            " [ 8336.23464463]\n",
            " [ 8336.23464463]\n",
            " [ 8336.23464463]\n",
            " [ 8336.23464463]\n",
            " [ 8336.23464463]\n",
            " [ 8336.23464463]\n",
            " [ 8336.23464463]\n",
            " [ 8336.23464463]\n",
            " [31833.68590177]\n",
            " [ 8336.23464463]\n",
            " [ 8336.23464463]\n",
            " [31833.68590177]\n",
            " [31833.68590177]\n",
            " [ 8336.23464463]\n",
            " [31833.68590177]\n",
            " [ 8336.23464463]\n",
            " [ 8336.23464463]\n",
            " [ 8336.23464463]\n",
            " [ 8336.23464463]\n",
            " [ 8336.23464463]\n",
            " [ 8336.23464463]\n",
            " [ 8336.23464463]\n",
            " [ 8336.23464463]\n",
            " [31833.68590177]\n",
            " [ 8336.23464463]\n",
            " [ 8336.23464463]\n",
            " [ 8336.23464463]]\n"
          ]
        }
      ],
      "source": [
        "print(X_val.shape)\n",
        "Y_pred = model.predict(X_val)\n",
        "print(Y_pred.shape)\n",
        "print(Y_pred)"
      ]
    },
    {
      "cell_type": "code",
      "execution_count": 145,
      "metadata": {
        "id": "13crNvjoTuK4"
      },
      "outputs": [],
      "source": [
        "list_of_predictions = pd.DataFrame(Y_pred)"
      ]
    },
    {
      "cell_type": "code",
      "execution_count": 146,
      "metadata": {
        "id": "4hhDruk6TuK4",
        "outputId": "223c5b27-b6c7-4a77-b9f9-98e1202277b5"
      },
      "outputs": [
        {
          "data": {
            "text/html": [
              "<div>\n",
              "<style scoped>\n",
              "    .dataframe tbody tr th:only-of-type {\n",
              "        vertical-align: middle;\n",
              "    }\n",
              "\n",
              "    .dataframe tbody tr th {\n",
              "        vertical-align: top;\n",
              "    }\n",
              "\n",
              "    .dataframe thead th {\n",
              "        text-align: right;\n",
              "    }\n",
              "</style>\n",
              "<table border=\"1\" class=\"dataframe\">\n",
              "  <thead>\n",
              "    <tr style=\"text-align: right;\">\n",
              "      <th></th>\n",
              "      <th>0</th>\n",
              "    </tr>\n",
              "  </thead>\n",
              "  <tbody>\n",
              "    <tr>\n",
              "      <th>0</th>\n",
              "      <td>8336.234645</td>\n",
              "    </tr>\n",
              "    <tr>\n",
              "      <th>1</th>\n",
              "      <td>8336.234645</td>\n",
              "    </tr>\n",
              "    <tr>\n",
              "      <th>2</th>\n",
              "      <td>31833.685902</td>\n",
              "    </tr>\n",
              "    <tr>\n",
              "      <th>3</th>\n",
              "      <td>8336.234645</td>\n",
              "    </tr>\n",
              "    <tr>\n",
              "      <th>4</th>\n",
              "      <td>8336.234645</td>\n",
              "    </tr>\n",
              "  </tbody>\n",
              "</table>\n",
              "</div>"
            ],
            "text/plain": [
              "              0\n",
              "0   8336.234645\n",
              "1   8336.234645\n",
              "2  31833.685902\n",
              "3   8336.234645\n",
              "4   8336.234645"
            ]
          },
          "execution_count": 146,
          "metadata": {},
          "output_type": "execute_result"
        }
      ],
      "source": [
        "list_of_predictions.head(5)"
      ]
    },
    {
      "cell_type": "markdown",
      "metadata": {
        "id": "2Hf1RKMfTuK4"
      },
      "source": [
        "## **7.3 Evaluation of the model**"
      ]
    },
    {
      "cell_type": "markdown",
      "metadata": {
        "id": "Gjv1tfeUTuK4"
      },
      "source": [
        "### In the *Linear Regression* machine learning algorithm, we use *metrics* to calculate an error to summarize the predictive skill of a model. There are several sort of errors we could use, for instance,\n",
        "\n",
        "**---->** *Mean Squared Error*\n",
        "\n",
        "**---->** R^2 coefficient\n",
        "\n",
        "**---->** *Root Mean Squared Error*\n",
        "\n",
        "**---->** *Mean Absolute Error*\n",
        "\n",
        "### Among them, we´ll use the *Mean Square Error* because of the fact that this one is less suitable to outliers. "
      ]
    },
    {
      "cell_type": "markdown",
      "metadata": {
        "id": "GUYKMqOTTuK5"
      },
      "source": [
        "### **7.3.1** ***Mean Squared Error***"
      ]
    },
    {
      "cell_type": "code",
      "execution_count": 147,
      "metadata": {
        "id": "SZvQDJN2TuK7"
      },
      "outputs": [],
      "source": [
        "# Mean Abosulte Error (MAE)\n",
        "# here, we´ll use the library of SciKit-learn\n",
        "\n",
        "errors = sklearn.metrics.mean_absolute_error(Y_val,Y_pred)"
      ]
    },
    {
      "cell_type": "code",
      "execution_count": 148,
      "metadata": {
        "id": "fYGy0i5eTuK7",
        "outputId": "8c86e3c8-f716-4afb-f708-f77675210d5c"
      },
      "outputs": [
        {
          "name": "stdout",
          "output_type": "stream",
          "text": [
            "The standard deviation is: $ 6069.953299581332\n"
          ]
        }
      ],
      "source": [
        "print('The standard deviation is: $',errors)"
      ]
    },
    {
      "cell_type": "markdown",
      "metadata": {
        "id": "H_MRBS4MTuK8"
      },
      "source": [
        "#### It means that there might be an error or difference of $5537 when the prediction is done. "
      ]
    },
    {
      "cell_type": "markdown",
      "metadata": {},
      "source": [
        "### **7.3.2** ***R^2 coefficient***"
      ]
    },
    {
      "cell_type": "code",
      "execution_count": 149,
      "metadata": {},
      "outputs": [
        {
          "name": "stdout",
          "output_type": "stream",
          "text": [
            "The R^2 coefficient is: 0.606841474855641\n"
          ]
        }
      ],
      "source": [
        "# R2 coefficient\n",
        "\n",
        "r2_coefficient = r2_score(Y_val,Y_pred)\n",
        "print('The R^2 coefficient is:',r2_coefficient)\n"
      ]
    },
    {
      "cell_type": "markdown",
      "metadata": {},
      "source": [
        "#### It means that the models will predict correctly the cost of the medical insurance 65 times every 100 persons. "
      ]
    },
    {
      "cell_type": "markdown",
      "metadata": {},
      "source": [
        "# **8. Results**"
      ]
    },
    {
      "cell_type": "code",
      "execution_count": 150,
      "metadata": {},
      "outputs": [
        {
          "ename": "FileNotFoundError",
          "evalue": "No such file or directory: '/Users/alexangelbracho/Desktop/projectAWS/images/Captura Results.png'",
          "output_type": "error",
          "traceback": [
            "\u001b[0;31m---------------------------------------------------------------------------\u001b[0m",
            "\u001b[0;31mTypeError\u001b[0m                                 Traceback (most recent call last)",
            "File \u001b[0;32m~/Desktop/GitHub_projects/Insurance Cost Prediction/projectInsurance/venv/lib/python3.12/site-packages/IPython/core/display.py:1045\u001b[0m, in \u001b[0;36mImage._data_and_metadata\u001b[0;34m(self, always_both)\u001b[0m\n\u001b[1;32m   1044\u001b[0m \u001b[38;5;28;01mtry\u001b[39;00m:\n\u001b[0;32m-> 1045\u001b[0m     b64_data \u001b[38;5;241m=\u001b[39m \u001b[43mb2a_base64\u001b[49m\u001b[43m(\u001b[49m\u001b[38;5;28;43mself\u001b[39;49m\u001b[38;5;241;43m.\u001b[39;49m\u001b[43mdata\u001b[49m\u001b[43m,\u001b[49m\u001b[43m \u001b[49m\u001b[43mnewline\u001b[49m\u001b[38;5;241;43m=\u001b[39;49m\u001b[38;5;28;43;01mFalse\u001b[39;49;00m\u001b[43m)\u001b[49m\u001b[38;5;241m.\u001b[39mdecode(\u001b[38;5;124m\"\u001b[39m\u001b[38;5;124mascii\u001b[39m\u001b[38;5;124m\"\u001b[39m)\n\u001b[1;32m   1046\u001b[0m \u001b[38;5;28;01mexcept\u001b[39;00m \u001b[38;5;167;01mTypeError\u001b[39;00m \u001b[38;5;28;01mas\u001b[39;00m e:\n",
            "\u001b[0;31mTypeError\u001b[0m: a bytes-like object is required, not 'str'",
            "\nThe above exception was the direct cause of the following exception:\n",
            "\u001b[0;31mFileNotFoundError\u001b[0m                         Traceback (most recent call last)",
            "File \u001b[0;32m~/Desktop/GitHub_projects/Insurance Cost Prediction/projectInsurance/venv/lib/python3.12/site-packages/IPython/core/formatters.py:977\u001b[0m, in \u001b[0;36mMimeBundleFormatter.__call__\u001b[0;34m(self, obj, include, exclude)\u001b[0m\n\u001b[1;32m    974\u001b[0m     method \u001b[38;5;241m=\u001b[39m get_real_method(obj, \u001b[38;5;28mself\u001b[39m\u001b[38;5;241m.\u001b[39mprint_method)\n\u001b[1;32m    976\u001b[0m     \u001b[38;5;28;01mif\u001b[39;00m method \u001b[38;5;129;01mis\u001b[39;00m \u001b[38;5;129;01mnot\u001b[39;00m \u001b[38;5;28;01mNone\u001b[39;00m:\n\u001b[0;32m--> 977\u001b[0m         \u001b[38;5;28;01mreturn\u001b[39;00m \u001b[43mmethod\u001b[49m\u001b[43m(\u001b[49m\u001b[43minclude\u001b[49m\u001b[38;5;241;43m=\u001b[39;49m\u001b[43minclude\u001b[49m\u001b[43m,\u001b[49m\u001b[43m \u001b[49m\u001b[43mexclude\u001b[49m\u001b[38;5;241;43m=\u001b[39;49m\u001b[43mexclude\u001b[49m\u001b[43m)\u001b[49m\n\u001b[1;32m    978\u001b[0m     \u001b[38;5;28;01mreturn\u001b[39;00m \u001b[38;5;28;01mNone\u001b[39;00m\n\u001b[1;32m    979\u001b[0m \u001b[38;5;28;01melse\u001b[39;00m:\n",
            "File \u001b[0;32m~/Desktop/GitHub_projects/Insurance Cost Prediction/projectInsurance/venv/lib/python3.12/site-packages/IPython/core/display.py:1035\u001b[0m, in \u001b[0;36mImage._repr_mimebundle_\u001b[0;34m(self, include, exclude)\u001b[0m\n\u001b[1;32m   1033\u001b[0m \u001b[38;5;28;01mif\u001b[39;00m \u001b[38;5;28mself\u001b[39m\u001b[38;5;241m.\u001b[39membed:\n\u001b[1;32m   1034\u001b[0m     mimetype \u001b[38;5;241m=\u001b[39m \u001b[38;5;28mself\u001b[39m\u001b[38;5;241m.\u001b[39m_mimetype\n\u001b[0;32m-> 1035\u001b[0m     data, metadata \u001b[38;5;241m=\u001b[39m \u001b[38;5;28;43mself\u001b[39;49m\u001b[38;5;241;43m.\u001b[39;49m\u001b[43m_data_and_metadata\u001b[49m\u001b[43m(\u001b[49m\u001b[43malways_both\u001b[49m\u001b[38;5;241;43m=\u001b[39;49m\u001b[38;5;28;43;01mTrue\u001b[39;49;00m\u001b[43m)\u001b[49m\n\u001b[1;32m   1036\u001b[0m     \u001b[38;5;28;01mif\u001b[39;00m metadata:\n\u001b[1;32m   1037\u001b[0m         metadata \u001b[38;5;241m=\u001b[39m {mimetype: metadata}\n",
            "File \u001b[0;32m~/Desktop/GitHub_projects/Insurance Cost Prediction/projectInsurance/venv/lib/python3.12/site-packages/IPython/core/display.py:1047\u001b[0m, in \u001b[0;36mImage._data_and_metadata\u001b[0;34m(self, always_both)\u001b[0m\n\u001b[1;32m   1045\u001b[0m     b64_data \u001b[38;5;241m=\u001b[39m b2a_base64(\u001b[38;5;28mself\u001b[39m\u001b[38;5;241m.\u001b[39mdata, newline\u001b[38;5;241m=\u001b[39m\u001b[38;5;28;01mFalse\u001b[39;00m)\u001b[38;5;241m.\u001b[39mdecode(\u001b[38;5;124m\"\u001b[39m\u001b[38;5;124mascii\u001b[39m\u001b[38;5;124m\"\u001b[39m)\n\u001b[1;32m   1046\u001b[0m \u001b[38;5;28;01mexcept\u001b[39;00m \u001b[38;5;167;01mTypeError\u001b[39;00m \u001b[38;5;28;01mas\u001b[39;00m e:\n\u001b[0;32m-> 1047\u001b[0m     \u001b[38;5;28;01mraise\u001b[39;00m \u001b[38;5;167;01mFileNotFoundError\u001b[39;00m(\n\u001b[1;32m   1048\u001b[0m         \u001b[38;5;124m\"\u001b[39m\u001b[38;5;124mNo such file or directory: \u001b[39m\u001b[38;5;124m'\u001b[39m\u001b[38;5;132;01m%s\u001b[39;00m\u001b[38;5;124m'\u001b[39m\u001b[38;5;124m\"\u001b[39m \u001b[38;5;241m%\u001b[39m (\u001b[38;5;28mself\u001b[39m\u001b[38;5;241m.\u001b[39mdata)) \u001b[38;5;28;01mfrom\u001b[39;00m \u001b[38;5;21;01me\u001b[39;00m\n\u001b[1;32m   1049\u001b[0m md \u001b[38;5;241m=\u001b[39m {}\n\u001b[1;32m   1050\u001b[0m \u001b[38;5;28;01mif\u001b[39;00m \u001b[38;5;28mself\u001b[39m\u001b[38;5;241m.\u001b[39mmetadata:\n",
            "\u001b[0;31mFileNotFoundError\u001b[0m: No such file or directory: '/Users/alexangelbracho/Desktop/projectAWS/images/Captura Results.png'"
          ]
        },
        {
          "ename": "FileNotFoundError",
          "evalue": "No such file or directory: '/Users/alexangelbracho/Desktop/projectAWS/images/Captura Results.png'",
          "output_type": "error",
          "traceback": [
            "\u001b[0;31m---------------------------------------------------------------------------\u001b[0m",
            "\u001b[0;31mTypeError\u001b[0m                                 Traceback (most recent call last)",
            "File \u001b[0;32m~/Desktop/GitHub_projects/Insurance Cost Prediction/projectInsurance/venv/lib/python3.12/site-packages/IPython/core/display.py:1045\u001b[0m, in \u001b[0;36mImage._data_and_metadata\u001b[0;34m(self, always_both)\u001b[0m\n\u001b[1;32m   1044\u001b[0m \u001b[38;5;28;01mtry\u001b[39;00m:\n\u001b[0;32m-> 1045\u001b[0m     b64_data \u001b[38;5;241m=\u001b[39m \u001b[43mb2a_base64\u001b[49m\u001b[43m(\u001b[49m\u001b[38;5;28;43mself\u001b[39;49m\u001b[38;5;241;43m.\u001b[39;49m\u001b[43mdata\u001b[49m\u001b[43m,\u001b[49m\u001b[43m \u001b[49m\u001b[43mnewline\u001b[49m\u001b[38;5;241;43m=\u001b[39;49m\u001b[38;5;28;43;01mFalse\u001b[39;49;00m\u001b[43m)\u001b[49m\u001b[38;5;241m.\u001b[39mdecode(\u001b[38;5;124m\"\u001b[39m\u001b[38;5;124mascii\u001b[39m\u001b[38;5;124m\"\u001b[39m)\n\u001b[1;32m   1046\u001b[0m \u001b[38;5;28;01mexcept\u001b[39;00m \u001b[38;5;167;01mTypeError\u001b[39;00m \u001b[38;5;28;01mas\u001b[39;00m e:\n",
            "\u001b[0;31mTypeError\u001b[0m: a bytes-like object is required, not 'str'",
            "\nThe above exception was the direct cause of the following exception:\n",
            "\u001b[0;31mFileNotFoundError\u001b[0m                         Traceback (most recent call last)",
            "File \u001b[0;32m~/Desktop/GitHub_projects/Insurance Cost Prediction/projectInsurance/venv/lib/python3.12/site-packages/IPython/core/formatters.py:347\u001b[0m, in \u001b[0;36mBaseFormatter.__call__\u001b[0;34m(self, obj)\u001b[0m\n\u001b[1;32m    345\u001b[0m     method \u001b[38;5;241m=\u001b[39m get_real_method(obj, \u001b[38;5;28mself\u001b[39m\u001b[38;5;241m.\u001b[39mprint_method)\n\u001b[1;32m    346\u001b[0m     \u001b[38;5;28;01mif\u001b[39;00m method \u001b[38;5;129;01mis\u001b[39;00m \u001b[38;5;129;01mnot\u001b[39;00m \u001b[38;5;28;01mNone\u001b[39;00m:\n\u001b[0;32m--> 347\u001b[0m         \u001b[38;5;28;01mreturn\u001b[39;00m \u001b[43mmethod\u001b[49m\u001b[43m(\u001b[49m\u001b[43m)\u001b[49m\n\u001b[1;32m    348\u001b[0m     \u001b[38;5;28;01mreturn\u001b[39;00m \u001b[38;5;28;01mNone\u001b[39;00m\n\u001b[1;32m    349\u001b[0m \u001b[38;5;28;01melse\u001b[39;00m:\n",
            "File \u001b[0;32m~/Desktop/GitHub_projects/Insurance Cost Prediction/projectInsurance/venv/lib/python3.12/site-packages/IPython/core/display.py:1067\u001b[0m, in \u001b[0;36mImage._repr_png_\u001b[0;34m(self)\u001b[0m\n\u001b[1;32m   1065\u001b[0m \u001b[38;5;28;01mdef\u001b[39;00m \u001b[38;5;21m_repr_png_\u001b[39m(\u001b[38;5;28mself\u001b[39m):\n\u001b[1;32m   1066\u001b[0m     \u001b[38;5;28;01mif\u001b[39;00m \u001b[38;5;28mself\u001b[39m\u001b[38;5;241m.\u001b[39membed \u001b[38;5;129;01mand\u001b[39;00m \u001b[38;5;28mself\u001b[39m\u001b[38;5;241m.\u001b[39mformat \u001b[38;5;241m==\u001b[39m \u001b[38;5;28mself\u001b[39m\u001b[38;5;241m.\u001b[39m_FMT_PNG:\n\u001b[0;32m-> 1067\u001b[0m         \u001b[38;5;28;01mreturn\u001b[39;00m \u001b[38;5;28;43mself\u001b[39;49m\u001b[38;5;241;43m.\u001b[39;49m\u001b[43m_data_and_metadata\u001b[49m\u001b[43m(\u001b[49m\u001b[43m)\u001b[49m\n",
            "File \u001b[0;32m~/Desktop/GitHub_projects/Insurance Cost Prediction/projectInsurance/venv/lib/python3.12/site-packages/IPython/core/display.py:1047\u001b[0m, in \u001b[0;36mImage._data_and_metadata\u001b[0;34m(self, always_both)\u001b[0m\n\u001b[1;32m   1045\u001b[0m     b64_data \u001b[38;5;241m=\u001b[39m b2a_base64(\u001b[38;5;28mself\u001b[39m\u001b[38;5;241m.\u001b[39mdata, newline\u001b[38;5;241m=\u001b[39m\u001b[38;5;28;01mFalse\u001b[39;00m)\u001b[38;5;241m.\u001b[39mdecode(\u001b[38;5;124m\"\u001b[39m\u001b[38;5;124mascii\u001b[39m\u001b[38;5;124m\"\u001b[39m)\n\u001b[1;32m   1046\u001b[0m \u001b[38;5;28;01mexcept\u001b[39;00m \u001b[38;5;167;01mTypeError\u001b[39;00m \u001b[38;5;28;01mas\u001b[39;00m e:\n\u001b[0;32m-> 1047\u001b[0m     \u001b[38;5;28;01mraise\u001b[39;00m \u001b[38;5;167;01mFileNotFoundError\u001b[39;00m(\n\u001b[1;32m   1048\u001b[0m         \u001b[38;5;124m\"\u001b[39m\u001b[38;5;124mNo such file or directory: \u001b[39m\u001b[38;5;124m'\u001b[39m\u001b[38;5;132;01m%s\u001b[39;00m\u001b[38;5;124m'\u001b[39m\u001b[38;5;124m\"\u001b[39m \u001b[38;5;241m%\u001b[39m (\u001b[38;5;28mself\u001b[39m\u001b[38;5;241m.\u001b[39mdata)) \u001b[38;5;28;01mfrom\u001b[39;00m \u001b[38;5;21;01me\u001b[39;00m\n\u001b[1;32m   1049\u001b[0m md \u001b[38;5;241m=\u001b[39m {}\n\u001b[1;32m   1050\u001b[0m \u001b[38;5;28;01mif\u001b[39;00m \u001b[38;5;28mself\u001b[39m\u001b[38;5;241m.\u001b[39mmetadata:\n",
            "\u001b[0;31mFileNotFoundError\u001b[0m: No such file or directory: '/Users/alexangelbracho/Desktop/projectAWS/images/Captura Results.png'"
          ]
        },
        {
          "data": {
            "text/plain": [
              "<IPython.core.display.Image object>"
            ]
          },
          "execution_count": 150,
          "metadata": {},
          "output_type": "execute_result"
        }
      ],
      "source": [
        "Image('/Users/alexangelbracho/Desktop/projectAWS/images/Captura Results.png') "
      ]
    },
    {
      "cell_type": "markdown",
      "metadata": {},
      "source": [
        "# **9. Recommendations**"
      ]
    },
    {
      "cell_type": "code",
      "execution_count": 151,
      "metadata": {},
      "outputs": [
        {
          "ename": "FileNotFoundError",
          "evalue": "No such file or directory: '/Users/alexangelbracho/Desktop/projectAWS/images/Captura Recomendaciones.png'",
          "output_type": "error",
          "traceback": [
            "\u001b[0;31m---------------------------------------------------------------------------\u001b[0m",
            "\u001b[0;31mTypeError\u001b[0m                                 Traceback (most recent call last)",
            "File \u001b[0;32m~/Desktop/GitHub_projects/Insurance Cost Prediction/projectInsurance/venv/lib/python3.12/site-packages/IPython/core/display.py:1045\u001b[0m, in \u001b[0;36mImage._data_and_metadata\u001b[0;34m(self, always_both)\u001b[0m\n\u001b[1;32m   1044\u001b[0m \u001b[38;5;28;01mtry\u001b[39;00m:\n\u001b[0;32m-> 1045\u001b[0m     b64_data \u001b[38;5;241m=\u001b[39m \u001b[43mb2a_base64\u001b[49m\u001b[43m(\u001b[49m\u001b[38;5;28;43mself\u001b[39;49m\u001b[38;5;241;43m.\u001b[39;49m\u001b[43mdata\u001b[49m\u001b[43m,\u001b[49m\u001b[43m \u001b[49m\u001b[43mnewline\u001b[49m\u001b[38;5;241;43m=\u001b[39;49m\u001b[38;5;28;43;01mFalse\u001b[39;49;00m\u001b[43m)\u001b[49m\u001b[38;5;241m.\u001b[39mdecode(\u001b[38;5;124m\"\u001b[39m\u001b[38;5;124mascii\u001b[39m\u001b[38;5;124m\"\u001b[39m)\n\u001b[1;32m   1046\u001b[0m \u001b[38;5;28;01mexcept\u001b[39;00m \u001b[38;5;167;01mTypeError\u001b[39;00m \u001b[38;5;28;01mas\u001b[39;00m e:\n",
            "\u001b[0;31mTypeError\u001b[0m: a bytes-like object is required, not 'str'",
            "\nThe above exception was the direct cause of the following exception:\n",
            "\u001b[0;31mFileNotFoundError\u001b[0m                         Traceback (most recent call last)",
            "File \u001b[0;32m~/Desktop/GitHub_projects/Insurance Cost Prediction/projectInsurance/venv/lib/python3.12/site-packages/IPython/core/formatters.py:977\u001b[0m, in \u001b[0;36mMimeBundleFormatter.__call__\u001b[0;34m(self, obj, include, exclude)\u001b[0m\n\u001b[1;32m    974\u001b[0m     method \u001b[38;5;241m=\u001b[39m get_real_method(obj, \u001b[38;5;28mself\u001b[39m\u001b[38;5;241m.\u001b[39mprint_method)\n\u001b[1;32m    976\u001b[0m     \u001b[38;5;28;01mif\u001b[39;00m method \u001b[38;5;129;01mis\u001b[39;00m \u001b[38;5;129;01mnot\u001b[39;00m \u001b[38;5;28;01mNone\u001b[39;00m:\n\u001b[0;32m--> 977\u001b[0m         \u001b[38;5;28;01mreturn\u001b[39;00m \u001b[43mmethod\u001b[49m\u001b[43m(\u001b[49m\u001b[43minclude\u001b[49m\u001b[38;5;241;43m=\u001b[39;49m\u001b[43minclude\u001b[49m\u001b[43m,\u001b[49m\u001b[43m \u001b[49m\u001b[43mexclude\u001b[49m\u001b[38;5;241;43m=\u001b[39;49m\u001b[43mexclude\u001b[49m\u001b[43m)\u001b[49m\n\u001b[1;32m    978\u001b[0m     \u001b[38;5;28;01mreturn\u001b[39;00m \u001b[38;5;28;01mNone\u001b[39;00m\n\u001b[1;32m    979\u001b[0m \u001b[38;5;28;01melse\u001b[39;00m:\n",
            "File \u001b[0;32m~/Desktop/GitHub_projects/Insurance Cost Prediction/projectInsurance/venv/lib/python3.12/site-packages/IPython/core/display.py:1035\u001b[0m, in \u001b[0;36mImage._repr_mimebundle_\u001b[0;34m(self, include, exclude)\u001b[0m\n\u001b[1;32m   1033\u001b[0m \u001b[38;5;28;01mif\u001b[39;00m \u001b[38;5;28mself\u001b[39m\u001b[38;5;241m.\u001b[39membed:\n\u001b[1;32m   1034\u001b[0m     mimetype \u001b[38;5;241m=\u001b[39m \u001b[38;5;28mself\u001b[39m\u001b[38;5;241m.\u001b[39m_mimetype\n\u001b[0;32m-> 1035\u001b[0m     data, metadata \u001b[38;5;241m=\u001b[39m \u001b[38;5;28;43mself\u001b[39;49m\u001b[38;5;241;43m.\u001b[39;49m\u001b[43m_data_and_metadata\u001b[49m\u001b[43m(\u001b[49m\u001b[43malways_both\u001b[49m\u001b[38;5;241;43m=\u001b[39;49m\u001b[38;5;28;43;01mTrue\u001b[39;49;00m\u001b[43m)\u001b[49m\n\u001b[1;32m   1036\u001b[0m     \u001b[38;5;28;01mif\u001b[39;00m metadata:\n\u001b[1;32m   1037\u001b[0m         metadata \u001b[38;5;241m=\u001b[39m {mimetype: metadata}\n",
            "File \u001b[0;32m~/Desktop/GitHub_projects/Insurance Cost Prediction/projectInsurance/venv/lib/python3.12/site-packages/IPython/core/display.py:1047\u001b[0m, in \u001b[0;36mImage._data_and_metadata\u001b[0;34m(self, always_both)\u001b[0m\n\u001b[1;32m   1045\u001b[0m     b64_data \u001b[38;5;241m=\u001b[39m b2a_base64(\u001b[38;5;28mself\u001b[39m\u001b[38;5;241m.\u001b[39mdata, newline\u001b[38;5;241m=\u001b[39m\u001b[38;5;28;01mFalse\u001b[39;00m)\u001b[38;5;241m.\u001b[39mdecode(\u001b[38;5;124m\"\u001b[39m\u001b[38;5;124mascii\u001b[39m\u001b[38;5;124m\"\u001b[39m)\n\u001b[1;32m   1046\u001b[0m \u001b[38;5;28;01mexcept\u001b[39;00m \u001b[38;5;167;01mTypeError\u001b[39;00m \u001b[38;5;28;01mas\u001b[39;00m e:\n\u001b[0;32m-> 1047\u001b[0m     \u001b[38;5;28;01mraise\u001b[39;00m \u001b[38;5;167;01mFileNotFoundError\u001b[39;00m(\n\u001b[1;32m   1048\u001b[0m         \u001b[38;5;124m\"\u001b[39m\u001b[38;5;124mNo such file or directory: \u001b[39m\u001b[38;5;124m'\u001b[39m\u001b[38;5;132;01m%s\u001b[39;00m\u001b[38;5;124m'\u001b[39m\u001b[38;5;124m\"\u001b[39m \u001b[38;5;241m%\u001b[39m (\u001b[38;5;28mself\u001b[39m\u001b[38;5;241m.\u001b[39mdata)) \u001b[38;5;28;01mfrom\u001b[39;00m \u001b[38;5;21;01me\u001b[39;00m\n\u001b[1;32m   1049\u001b[0m md \u001b[38;5;241m=\u001b[39m {}\n\u001b[1;32m   1050\u001b[0m \u001b[38;5;28;01mif\u001b[39;00m \u001b[38;5;28mself\u001b[39m\u001b[38;5;241m.\u001b[39mmetadata:\n",
            "\u001b[0;31mFileNotFoundError\u001b[0m: No such file or directory: '/Users/alexangelbracho/Desktop/projectAWS/images/Captura Recomendaciones.png'"
          ]
        },
        {
          "ename": "FileNotFoundError",
          "evalue": "No such file or directory: '/Users/alexangelbracho/Desktop/projectAWS/images/Captura Recomendaciones.png'",
          "output_type": "error",
          "traceback": [
            "\u001b[0;31m---------------------------------------------------------------------------\u001b[0m",
            "\u001b[0;31mTypeError\u001b[0m                                 Traceback (most recent call last)",
            "File \u001b[0;32m~/Desktop/GitHub_projects/Insurance Cost Prediction/projectInsurance/venv/lib/python3.12/site-packages/IPython/core/display.py:1045\u001b[0m, in \u001b[0;36mImage._data_and_metadata\u001b[0;34m(self, always_both)\u001b[0m\n\u001b[1;32m   1044\u001b[0m \u001b[38;5;28;01mtry\u001b[39;00m:\n\u001b[0;32m-> 1045\u001b[0m     b64_data \u001b[38;5;241m=\u001b[39m \u001b[43mb2a_base64\u001b[49m\u001b[43m(\u001b[49m\u001b[38;5;28;43mself\u001b[39;49m\u001b[38;5;241;43m.\u001b[39;49m\u001b[43mdata\u001b[49m\u001b[43m,\u001b[49m\u001b[43m \u001b[49m\u001b[43mnewline\u001b[49m\u001b[38;5;241;43m=\u001b[39;49m\u001b[38;5;28;43;01mFalse\u001b[39;49;00m\u001b[43m)\u001b[49m\u001b[38;5;241m.\u001b[39mdecode(\u001b[38;5;124m\"\u001b[39m\u001b[38;5;124mascii\u001b[39m\u001b[38;5;124m\"\u001b[39m)\n\u001b[1;32m   1046\u001b[0m \u001b[38;5;28;01mexcept\u001b[39;00m \u001b[38;5;167;01mTypeError\u001b[39;00m \u001b[38;5;28;01mas\u001b[39;00m e:\n",
            "\u001b[0;31mTypeError\u001b[0m: a bytes-like object is required, not 'str'",
            "\nThe above exception was the direct cause of the following exception:\n",
            "\u001b[0;31mFileNotFoundError\u001b[0m                         Traceback (most recent call last)",
            "File \u001b[0;32m~/Desktop/GitHub_projects/Insurance Cost Prediction/projectInsurance/venv/lib/python3.12/site-packages/IPython/core/formatters.py:347\u001b[0m, in \u001b[0;36mBaseFormatter.__call__\u001b[0;34m(self, obj)\u001b[0m\n\u001b[1;32m    345\u001b[0m     method \u001b[38;5;241m=\u001b[39m get_real_method(obj, \u001b[38;5;28mself\u001b[39m\u001b[38;5;241m.\u001b[39mprint_method)\n\u001b[1;32m    346\u001b[0m     \u001b[38;5;28;01mif\u001b[39;00m method \u001b[38;5;129;01mis\u001b[39;00m \u001b[38;5;129;01mnot\u001b[39;00m \u001b[38;5;28;01mNone\u001b[39;00m:\n\u001b[0;32m--> 347\u001b[0m         \u001b[38;5;28;01mreturn\u001b[39;00m \u001b[43mmethod\u001b[49m\u001b[43m(\u001b[49m\u001b[43m)\u001b[49m\n\u001b[1;32m    348\u001b[0m     \u001b[38;5;28;01mreturn\u001b[39;00m \u001b[38;5;28;01mNone\u001b[39;00m\n\u001b[1;32m    349\u001b[0m \u001b[38;5;28;01melse\u001b[39;00m:\n",
            "File \u001b[0;32m~/Desktop/GitHub_projects/Insurance Cost Prediction/projectInsurance/venv/lib/python3.12/site-packages/IPython/core/display.py:1067\u001b[0m, in \u001b[0;36mImage._repr_png_\u001b[0;34m(self)\u001b[0m\n\u001b[1;32m   1065\u001b[0m \u001b[38;5;28;01mdef\u001b[39;00m \u001b[38;5;21m_repr_png_\u001b[39m(\u001b[38;5;28mself\u001b[39m):\n\u001b[1;32m   1066\u001b[0m     \u001b[38;5;28;01mif\u001b[39;00m \u001b[38;5;28mself\u001b[39m\u001b[38;5;241m.\u001b[39membed \u001b[38;5;129;01mand\u001b[39;00m \u001b[38;5;28mself\u001b[39m\u001b[38;5;241m.\u001b[39mformat \u001b[38;5;241m==\u001b[39m \u001b[38;5;28mself\u001b[39m\u001b[38;5;241m.\u001b[39m_FMT_PNG:\n\u001b[0;32m-> 1067\u001b[0m         \u001b[38;5;28;01mreturn\u001b[39;00m \u001b[38;5;28;43mself\u001b[39;49m\u001b[38;5;241;43m.\u001b[39;49m\u001b[43m_data_and_metadata\u001b[49m\u001b[43m(\u001b[49m\u001b[43m)\u001b[49m\n",
            "File \u001b[0;32m~/Desktop/GitHub_projects/Insurance Cost Prediction/projectInsurance/venv/lib/python3.12/site-packages/IPython/core/display.py:1047\u001b[0m, in \u001b[0;36mImage._data_and_metadata\u001b[0;34m(self, always_both)\u001b[0m\n\u001b[1;32m   1045\u001b[0m     b64_data \u001b[38;5;241m=\u001b[39m b2a_base64(\u001b[38;5;28mself\u001b[39m\u001b[38;5;241m.\u001b[39mdata, newline\u001b[38;5;241m=\u001b[39m\u001b[38;5;28;01mFalse\u001b[39;00m)\u001b[38;5;241m.\u001b[39mdecode(\u001b[38;5;124m\"\u001b[39m\u001b[38;5;124mascii\u001b[39m\u001b[38;5;124m\"\u001b[39m)\n\u001b[1;32m   1046\u001b[0m \u001b[38;5;28;01mexcept\u001b[39;00m \u001b[38;5;167;01mTypeError\u001b[39;00m \u001b[38;5;28;01mas\u001b[39;00m e:\n\u001b[0;32m-> 1047\u001b[0m     \u001b[38;5;28;01mraise\u001b[39;00m \u001b[38;5;167;01mFileNotFoundError\u001b[39;00m(\n\u001b[1;32m   1048\u001b[0m         \u001b[38;5;124m\"\u001b[39m\u001b[38;5;124mNo such file or directory: \u001b[39m\u001b[38;5;124m'\u001b[39m\u001b[38;5;132;01m%s\u001b[39;00m\u001b[38;5;124m'\u001b[39m\u001b[38;5;124m\"\u001b[39m \u001b[38;5;241m%\u001b[39m (\u001b[38;5;28mself\u001b[39m\u001b[38;5;241m.\u001b[39mdata)) \u001b[38;5;28;01mfrom\u001b[39;00m \u001b[38;5;21;01me\u001b[39;00m\n\u001b[1;32m   1049\u001b[0m md \u001b[38;5;241m=\u001b[39m {}\n\u001b[1;32m   1050\u001b[0m \u001b[38;5;28;01mif\u001b[39;00m \u001b[38;5;28mself\u001b[39m\u001b[38;5;241m.\u001b[39mmetadata:\n",
            "\u001b[0;31mFileNotFoundError\u001b[0m: No such file or directory: '/Users/alexangelbracho/Desktop/projectAWS/images/Captura Recomendaciones.png'"
          ]
        },
        {
          "data": {
            "text/plain": [
              "<IPython.core.display.Image object>"
            ]
          },
          "execution_count": 151,
          "metadata": {},
          "output_type": "execute_result"
        }
      ],
      "source": [
        "Image('/Users/alexangelbracho/Desktop/projectAWS/images/Captura Recomendaciones.png') "
      ]
    }
  ],
  "metadata": {
    "colab": {
      "provenance": []
    },
    "kernelspec": {
      "display_name": "venv",
      "language": "python",
      "name": "python3"
    },
    "language_info": {
      "codemirror_mode": {
        "name": "ipython",
        "version": 3
      },
      "file_extension": ".py",
      "mimetype": "text/x-python",
      "name": "python",
      "nbconvert_exporter": "python",
      "pygments_lexer": "ipython3",
      "version": "3.12.2"
    }
  },
  "nbformat": 4,
  "nbformat_minor": 0
}
